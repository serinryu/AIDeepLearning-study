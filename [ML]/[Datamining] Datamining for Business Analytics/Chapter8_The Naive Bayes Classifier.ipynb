{
 "cells": [
  {
   "cell_type": "markdown",
   "metadata": {},
   "source": [
    "# Naïve Bayes Classifier\n",
    "\n",
    "\n",
    "**참고**\n",
    "https://bkshin.tistory.com/entry/%EB%A8%B8%EC%8B%A0%EB%9F%AC%EB%8B%9D-1%EB%82%98%EC%9D%B4%EB%B8%8C-%EB%B2%A0%EC%9D%B4%EC%A6%88-%EB%B6%84%EB%A5%98-Naive-Bayes-Classification\n",
    "\n",
    "\n",
    "### Definition\n",
    "\n",
    "- Statistical method for classification\n",
    "- Supervised learning method\n",
    "- Assumes an underlying probabilistic model, the Bayes theorem\n",
    "- Can solve problems involving both categorical and continuous valued attributes\n",
    "- Named after Thomas Bayes, who proposed the Bayes theorem\n",
    "\n",
    "### Characteristics\n",
    "\n",
    "- Data-driven, not model-driven\n",
    "\n",
    "### Usage\n",
    "\n",
    "- Requires categorical variables\n",
    "- Numerical variable must be binned and converted to categorical\n",
    "- Can be used with very large data sets\n",
    "- Example: Spell check programs assign your misspelled word to an established “class” (i.e., correctly spelled word)\n",
    "\n",
    "\n",
    "### Exact Bayes Classifier\n",
    "- Relies on finding other records that share same predictor values as record-to-be-classified \n",
    "- Want to find “probability of belonging to class C, given specified values of predictors”\n",
    "- Even with large data sets, may be *hard* to find other records that exactly match your record, in terms of predictor values\n",
    "\n",
    "- Solution – Naïve Bayes\n",
    "    - Assume independence of predictor variables (within each class)\n",
    "    - Use multiplication rule\n",
    "    - Find same probability that record belongs to class C, given predictor values, **without** limiting calculation to records that share all those same values\n",
    "    \n",
    "    \n",
    "### Pros & Cons\n",
    "- Advantages \n",
    "    - Handles purely categorical data well\n",
    "    - Works well with very large data sets\n",
    "    - Simple & computationally efficient\n",
    "\n",
    "- Shortcomings\n",
    "    - Requires large number of records\n",
    "    - Problematic when a predictor category is not present in training data \n",
    "    - Assigns 0 probability of response, ignoring information in other variables"
   ]
  },
  {
   "cell_type": "markdown",
   "metadata": {},
   "source": [
    "## Example: "
   ]
  },
  {
   "cell_type": "code",
   "execution_count": 6,
   "metadata": {},
   "outputs": [
    {
     "name": "stdout",
     "output_type": "stream",
     "text": [
      "Warning: 'conda-forge' already in 'channels' list, moving to the top\r\n"
     ]
    }
   ],
   "source": [
    "#Install Data Mining for Business Analytics (dmba)\n",
    "!conda config --add channels conda-forge\n",
    "!conda config --set channel_priority strict\n",
    "#!conda install dmba"
   ]
  },
  {
   "cell_type": "code",
   "execution_count": 1,
   "metadata": {},
   "outputs": [
    {
     "name": "stdout",
     "output_type": "stream",
     "text": [
      "no display found. Using non-interactive Agg backend\n"
     ]
    }
   ],
   "source": [
    "import pandas as pd\n",
    "from sklearn.model_selection import train_test_split\n",
    "from sklearn.naive_bayes import MultinomialNB\n",
    "import matplotlib.pylab as plt\n",
    "from dmba import classificationSummary, gainsChart"
   ]
  },
  {
   "cell_type": "code",
   "execution_count": 2,
   "metadata": {},
   "outputs": [],
   "source": [
    "delays_df = pd.read_csv('FlightDelays.csv')"
   ]
  },
  {
   "cell_type": "markdown",
   "metadata": {},
   "source": [
    "### Preprocessing"
   ]
  },
  {
   "cell_type": "code",
   "execution_count": 3,
   "metadata": {},
   "outputs": [
    {
     "name": "stdout",
     "output_type": "stream",
     "text": [
      "<class 'pandas.core.frame.DataFrame'>\n",
      "RangeIndex: 2201 entries, 0 to 2200\n",
      "Data columns (total 13 columns):\n",
      " #   Column         Non-Null Count  Dtype \n",
      "---  ------         --------------  ----- \n",
      " 0   CRS_DEP_TIME   2201 non-null   int64 \n",
      " 1   CARRIER        2201 non-null   object\n",
      " 2   DEP_TIME       2201 non-null   int64 \n",
      " 3   DEST           2201 non-null   object\n",
      " 4   DISTANCE       2201 non-null   int64 \n",
      " 5   FL_DATE        2201 non-null   object\n",
      " 6   FL_NUM         2201 non-null   int64 \n",
      " 7   ORIGIN         2201 non-null   object\n",
      " 8   Weather        2201 non-null   int64 \n",
      " 9   DAY_WEEK       2201 non-null   int64 \n",
      " 10  DAY_OF_MONTH   2201 non-null   int64 \n",
      " 11  TAIL_NUM       2201 non-null   object\n",
      " 12  Flight Status  2201 non-null   object\n",
      "dtypes: int64(7), object(6)\n",
      "memory usage: 223.7+ KB\n"
     ]
    }
   ],
   "source": [
    "delays_df.info()"
   ]
  },
  {
   "cell_type": "code",
   "execution_count": 4,
   "metadata": {},
   "outputs": [
    {
     "data": {
      "text/html": [
       "<div>\n",
       "<style scoped>\n",
       "    .dataframe tbody tr th:only-of-type {\n",
       "        vertical-align: middle;\n",
       "    }\n",
       "\n",
       "    .dataframe tbody tr th {\n",
       "        vertical-align: top;\n",
       "    }\n",
       "\n",
       "    .dataframe thead th {\n",
       "        text-align: right;\n",
       "    }\n",
       "</style>\n",
       "<table border=\"1\" class=\"dataframe\">\n",
       "  <thead>\n",
       "    <tr style=\"text-align: right;\">\n",
       "      <th></th>\n",
       "      <th>CRS_DEP_TIME</th>\n",
       "      <th>CARRIER</th>\n",
       "      <th>DEP_TIME</th>\n",
       "      <th>DEST</th>\n",
       "      <th>DISTANCE</th>\n",
       "      <th>FL_DATE</th>\n",
       "      <th>FL_NUM</th>\n",
       "      <th>ORIGIN</th>\n",
       "      <th>Weather</th>\n",
       "      <th>DAY_WEEK</th>\n",
       "      <th>DAY_OF_MONTH</th>\n",
       "      <th>TAIL_NUM</th>\n",
       "      <th>Flight Status</th>\n",
       "    </tr>\n",
       "  </thead>\n",
       "  <tbody>\n",
       "    <tr>\n",
       "      <th>0</th>\n",
       "      <td>1455</td>\n",
       "      <td>OH</td>\n",
       "      <td>1455</td>\n",
       "      <td>JFK</td>\n",
       "      <td>184</td>\n",
       "      <td>01/01/2004</td>\n",
       "      <td>5935</td>\n",
       "      <td>BWI</td>\n",
       "      <td>0</td>\n",
       "      <td>4</td>\n",
       "      <td>1</td>\n",
       "      <td>N940CA</td>\n",
       "      <td>ontime</td>\n",
       "    </tr>\n",
       "    <tr>\n",
       "      <th>1</th>\n",
       "      <td>1640</td>\n",
       "      <td>DH</td>\n",
       "      <td>1640</td>\n",
       "      <td>JFK</td>\n",
       "      <td>213</td>\n",
       "      <td>01/01/2004</td>\n",
       "      <td>6155</td>\n",
       "      <td>DCA</td>\n",
       "      <td>0</td>\n",
       "      <td>4</td>\n",
       "      <td>1</td>\n",
       "      <td>N405FJ</td>\n",
       "      <td>ontime</td>\n",
       "    </tr>\n",
       "    <tr>\n",
       "      <th>2</th>\n",
       "      <td>1245</td>\n",
       "      <td>DH</td>\n",
       "      <td>1245</td>\n",
       "      <td>LGA</td>\n",
       "      <td>229</td>\n",
       "      <td>01/01/2004</td>\n",
       "      <td>7208</td>\n",
       "      <td>IAD</td>\n",
       "      <td>0</td>\n",
       "      <td>4</td>\n",
       "      <td>1</td>\n",
       "      <td>N695BR</td>\n",
       "      <td>ontime</td>\n",
       "    </tr>\n",
       "    <tr>\n",
       "      <th>3</th>\n",
       "      <td>1715</td>\n",
       "      <td>DH</td>\n",
       "      <td>1709</td>\n",
       "      <td>LGA</td>\n",
       "      <td>229</td>\n",
       "      <td>01/01/2004</td>\n",
       "      <td>7215</td>\n",
       "      <td>IAD</td>\n",
       "      <td>0</td>\n",
       "      <td>4</td>\n",
       "      <td>1</td>\n",
       "      <td>N662BR</td>\n",
       "      <td>ontime</td>\n",
       "    </tr>\n",
       "    <tr>\n",
       "      <th>4</th>\n",
       "      <td>1039</td>\n",
       "      <td>DH</td>\n",
       "      <td>1035</td>\n",
       "      <td>LGA</td>\n",
       "      <td>229</td>\n",
       "      <td>01/01/2004</td>\n",
       "      <td>7792</td>\n",
       "      <td>IAD</td>\n",
       "      <td>0</td>\n",
       "      <td>4</td>\n",
       "      <td>1</td>\n",
       "      <td>N698BR</td>\n",
       "      <td>ontime</td>\n",
       "    </tr>\n",
       "    <tr>\n",
       "      <th>...</th>\n",
       "      <td>...</td>\n",
       "      <td>...</td>\n",
       "      <td>...</td>\n",
       "      <td>...</td>\n",
       "      <td>...</td>\n",
       "      <td>...</td>\n",
       "      <td>...</td>\n",
       "      <td>...</td>\n",
       "      <td>...</td>\n",
       "      <td>...</td>\n",
       "      <td>...</td>\n",
       "      <td>...</td>\n",
       "      <td>...</td>\n",
       "    </tr>\n",
       "    <tr>\n",
       "      <th>2196</th>\n",
       "      <td>645</td>\n",
       "      <td>RU</td>\n",
       "      <td>644</td>\n",
       "      <td>EWR</td>\n",
       "      <td>199</td>\n",
       "      <td>1/31/2004</td>\n",
       "      <td>2761</td>\n",
       "      <td>DCA</td>\n",
       "      <td>0</td>\n",
       "      <td>6</td>\n",
       "      <td>31</td>\n",
       "      <td>N15555</td>\n",
       "      <td>ontime</td>\n",
       "    </tr>\n",
       "    <tr>\n",
       "      <th>2197</th>\n",
       "      <td>1700</td>\n",
       "      <td>RU</td>\n",
       "      <td>1653</td>\n",
       "      <td>EWR</td>\n",
       "      <td>213</td>\n",
       "      <td>1/31/2004</td>\n",
       "      <td>2497</td>\n",
       "      <td>IAD</td>\n",
       "      <td>0</td>\n",
       "      <td>6</td>\n",
       "      <td>31</td>\n",
       "      <td>N16976</td>\n",
       "      <td>ontime</td>\n",
       "    </tr>\n",
       "    <tr>\n",
       "      <th>2198</th>\n",
       "      <td>1600</td>\n",
       "      <td>RU</td>\n",
       "      <td>1558</td>\n",
       "      <td>EWR</td>\n",
       "      <td>199</td>\n",
       "      <td>1/31/2004</td>\n",
       "      <td>2361</td>\n",
       "      <td>DCA</td>\n",
       "      <td>0</td>\n",
       "      <td>6</td>\n",
       "      <td>31</td>\n",
       "      <td>N14902</td>\n",
       "      <td>ontime</td>\n",
       "    </tr>\n",
       "    <tr>\n",
       "      <th>2199</th>\n",
       "      <td>1359</td>\n",
       "      <td>RU</td>\n",
       "      <td>1403</td>\n",
       "      <td>EWR</td>\n",
       "      <td>199</td>\n",
       "      <td>1/31/2004</td>\n",
       "      <td>2216</td>\n",
       "      <td>DCA</td>\n",
       "      <td>0</td>\n",
       "      <td>6</td>\n",
       "      <td>31</td>\n",
       "      <td>N16961</td>\n",
       "      <td>ontime</td>\n",
       "    </tr>\n",
       "    <tr>\n",
       "      <th>2200</th>\n",
       "      <td>1730</td>\n",
       "      <td>RU</td>\n",
       "      <td>1736</td>\n",
       "      <td>EWR</td>\n",
       "      <td>199</td>\n",
       "      <td>1/31/2004</td>\n",
       "      <td>2097</td>\n",
       "      <td>DCA</td>\n",
       "      <td>0</td>\n",
       "      <td>6</td>\n",
       "      <td>31</td>\n",
       "      <td>N13994</td>\n",
       "      <td>ontime</td>\n",
       "    </tr>\n",
       "  </tbody>\n",
       "</table>\n",
       "<p>2201 rows × 13 columns</p>\n",
       "</div>"
      ],
      "text/plain": [
       "      CRS_DEP_TIME CARRIER  DEP_TIME DEST  DISTANCE     FL_DATE  FL_NUM  \\\n",
       "0             1455      OH      1455  JFK       184  01/01/2004    5935   \n",
       "1             1640      DH      1640  JFK       213  01/01/2004    6155   \n",
       "2             1245      DH      1245  LGA       229  01/01/2004    7208   \n",
       "3             1715      DH      1709  LGA       229  01/01/2004    7215   \n",
       "4             1039      DH      1035  LGA       229  01/01/2004    7792   \n",
       "...            ...     ...       ...  ...       ...         ...     ...   \n",
       "2196           645      RU       644  EWR       199   1/31/2004    2761   \n",
       "2197          1700      RU      1653  EWR       213   1/31/2004    2497   \n",
       "2198          1600      RU      1558  EWR       199   1/31/2004    2361   \n",
       "2199          1359      RU      1403  EWR       199   1/31/2004    2216   \n",
       "2200          1730      RU      1736  EWR       199   1/31/2004    2097   \n",
       "\n",
       "     ORIGIN  Weather  DAY_WEEK  DAY_OF_MONTH TAIL_NUM Flight Status  \n",
       "0       BWI        0         4             1   N940CA        ontime  \n",
       "1       DCA        0         4             1   N405FJ        ontime  \n",
       "2       IAD        0         4             1   N695BR        ontime  \n",
       "3       IAD        0         4             1   N662BR        ontime  \n",
       "4       IAD        0         4             1   N698BR        ontime  \n",
       "...     ...      ...       ...           ...      ...           ...  \n",
       "2196    DCA        0         6            31   N15555        ontime  \n",
       "2197    IAD        0         6            31   N16976        ontime  \n",
       "2198    DCA        0         6            31   N14902        ontime  \n",
       "2199    DCA        0         6            31   N16961        ontime  \n",
       "2200    DCA        0         6            31   N13994        ontime  \n",
       "\n",
       "[2201 rows x 13 columns]"
      ]
     },
     "execution_count": 4,
     "metadata": {},
     "output_type": "execute_result"
    }
   ],
   "source": [
    "delays_df"
   ]
  },
  {
   "cell_type": "code",
   "execution_count": 5,
   "metadata": {},
   "outputs": [],
   "source": [
    "# convert to categorical (convert datatype from string to ‘category’)\n",
    "delays_df.DAY_WEEK = delays_df.DAY_WEEK.astype('category')\n",
    "delays_df['Flight Status'] = delays_df['Flight Status'].astype('category')\n",
    "# create hourly bins departure time\n",
    "delays_df.CRS_DEP_TIME = [round(t / 100) for t in delays_df.CRS_DEP_TIME]\n",
    "delays_df.CRS_DEP_TIME = delays_df.CRS_DEP_TIME.astype('category')"
   ]
  },
  {
   "cell_type": "code",
   "execution_count": 7,
   "metadata": {},
   "outputs": [
    {
     "data": {
      "text/html": [
       "<div>\n",
       "<style scoped>\n",
       "    .dataframe tbody tr th:only-of-type {\n",
       "        vertical-align: middle;\n",
       "    }\n",
       "\n",
       "    .dataframe tbody tr th {\n",
       "        vertical-align: top;\n",
       "    }\n",
       "\n",
       "    .dataframe thead th {\n",
       "        text-align: right;\n",
       "    }\n",
       "</style>\n",
       "<table border=\"1\" class=\"dataframe\">\n",
       "  <thead>\n",
       "    <tr style=\"text-align: right;\">\n",
       "      <th></th>\n",
       "      <th>CRS_DEP_TIME</th>\n",
       "      <th>CARRIER</th>\n",
       "      <th>DEP_TIME</th>\n",
       "      <th>DEST</th>\n",
       "      <th>DISTANCE</th>\n",
       "      <th>FL_DATE</th>\n",
       "      <th>FL_NUM</th>\n",
       "      <th>ORIGIN</th>\n",
       "      <th>Weather</th>\n",
       "      <th>DAY_WEEK</th>\n",
       "      <th>DAY_OF_MONTH</th>\n",
       "      <th>TAIL_NUM</th>\n",
       "      <th>Flight Status</th>\n",
       "    </tr>\n",
       "  </thead>\n",
       "  <tbody>\n",
       "    <tr>\n",
       "      <th>0</th>\n",
       "      <td>15</td>\n",
       "      <td>OH</td>\n",
       "      <td>1455</td>\n",
       "      <td>JFK</td>\n",
       "      <td>184</td>\n",
       "      <td>01/01/2004</td>\n",
       "      <td>5935</td>\n",
       "      <td>BWI</td>\n",
       "      <td>0</td>\n",
       "      <td>4</td>\n",
       "      <td>1</td>\n",
       "      <td>N940CA</td>\n",
       "      <td>ontime</td>\n",
       "    </tr>\n",
       "    <tr>\n",
       "      <th>1</th>\n",
       "      <td>16</td>\n",
       "      <td>DH</td>\n",
       "      <td>1640</td>\n",
       "      <td>JFK</td>\n",
       "      <td>213</td>\n",
       "      <td>01/01/2004</td>\n",
       "      <td>6155</td>\n",
       "      <td>DCA</td>\n",
       "      <td>0</td>\n",
       "      <td>4</td>\n",
       "      <td>1</td>\n",
       "      <td>N405FJ</td>\n",
       "      <td>ontime</td>\n",
       "    </tr>\n",
       "    <tr>\n",
       "      <th>2</th>\n",
       "      <td>12</td>\n",
       "      <td>DH</td>\n",
       "      <td>1245</td>\n",
       "      <td>LGA</td>\n",
       "      <td>229</td>\n",
       "      <td>01/01/2004</td>\n",
       "      <td>7208</td>\n",
       "      <td>IAD</td>\n",
       "      <td>0</td>\n",
       "      <td>4</td>\n",
       "      <td>1</td>\n",
       "      <td>N695BR</td>\n",
       "      <td>ontime</td>\n",
       "    </tr>\n",
       "    <tr>\n",
       "      <th>3</th>\n",
       "      <td>17</td>\n",
       "      <td>DH</td>\n",
       "      <td>1709</td>\n",
       "      <td>LGA</td>\n",
       "      <td>229</td>\n",
       "      <td>01/01/2004</td>\n",
       "      <td>7215</td>\n",
       "      <td>IAD</td>\n",
       "      <td>0</td>\n",
       "      <td>4</td>\n",
       "      <td>1</td>\n",
       "      <td>N662BR</td>\n",
       "      <td>ontime</td>\n",
       "    </tr>\n",
       "    <tr>\n",
       "      <th>4</th>\n",
       "      <td>10</td>\n",
       "      <td>DH</td>\n",
       "      <td>1035</td>\n",
       "      <td>LGA</td>\n",
       "      <td>229</td>\n",
       "      <td>01/01/2004</td>\n",
       "      <td>7792</td>\n",
       "      <td>IAD</td>\n",
       "      <td>0</td>\n",
       "      <td>4</td>\n",
       "      <td>1</td>\n",
       "      <td>N698BR</td>\n",
       "      <td>ontime</td>\n",
       "    </tr>\n",
       "    <tr>\n",
       "      <th>...</th>\n",
       "      <td>...</td>\n",
       "      <td>...</td>\n",
       "      <td>...</td>\n",
       "      <td>...</td>\n",
       "      <td>...</td>\n",
       "      <td>...</td>\n",
       "      <td>...</td>\n",
       "      <td>...</td>\n",
       "      <td>...</td>\n",
       "      <td>...</td>\n",
       "      <td>...</td>\n",
       "      <td>...</td>\n",
       "      <td>...</td>\n",
       "    </tr>\n",
       "    <tr>\n",
       "      <th>2196</th>\n",
       "      <td>6</td>\n",
       "      <td>RU</td>\n",
       "      <td>644</td>\n",
       "      <td>EWR</td>\n",
       "      <td>199</td>\n",
       "      <td>1/31/2004</td>\n",
       "      <td>2761</td>\n",
       "      <td>DCA</td>\n",
       "      <td>0</td>\n",
       "      <td>6</td>\n",
       "      <td>31</td>\n",
       "      <td>N15555</td>\n",
       "      <td>ontime</td>\n",
       "    </tr>\n",
       "    <tr>\n",
       "      <th>2197</th>\n",
       "      <td>17</td>\n",
       "      <td>RU</td>\n",
       "      <td>1653</td>\n",
       "      <td>EWR</td>\n",
       "      <td>213</td>\n",
       "      <td>1/31/2004</td>\n",
       "      <td>2497</td>\n",
       "      <td>IAD</td>\n",
       "      <td>0</td>\n",
       "      <td>6</td>\n",
       "      <td>31</td>\n",
       "      <td>N16976</td>\n",
       "      <td>ontime</td>\n",
       "    </tr>\n",
       "    <tr>\n",
       "      <th>2198</th>\n",
       "      <td>16</td>\n",
       "      <td>RU</td>\n",
       "      <td>1558</td>\n",
       "      <td>EWR</td>\n",
       "      <td>199</td>\n",
       "      <td>1/31/2004</td>\n",
       "      <td>2361</td>\n",
       "      <td>DCA</td>\n",
       "      <td>0</td>\n",
       "      <td>6</td>\n",
       "      <td>31</td>\n",
       "      <td>N14902</td>\n",
       "      <td>ontime</td>\n",
       "    </tr>\n",
       "    <tr>\n",
       "      <th>2199</th>\n",
       "      <td>14</td>\n",
       "      <td>RU</td>\n",
       "      <td>1403</td>\n",
       "      <td>EWR</td>\n",
       "      <td>199</td>\n",
       "      <td>1/31/2004</td>\n",
       "      <td>2216</td>\n",
       "      <td>DCA</td>\n",
       "      <td>0</td>\n",
       "      <td>6</td>\n",
       "      <td>31</td>\n",
       "      <td>N16961</td>\n",
       "      <td>ontime</td>\n",
       "    </tr>\n",
       "    <tr>\n",
       "      <th>2200</th>\n",
       "      <td>17</td>\n",
       "      <td>RU</td>\n",
       "      <td>1736</td>\n",
       "      <td>EWR</td>\n",
       "      <td>199</td>\n",
       "      <td>1/31/2004</td>\n",
       "      <td>2097</td>\n",
       "      <td>DCA</td>\n",
       "      <td>0</td>\n",
       "      <td>6</td>\n",
       "      <td>31</td>\n",
       "      <td>N13994</td>\n",
       "      <td>ontime</td>\n",
       "    </tr>\n",
       "  </tbody>\n",
       "</table>\n",
       "<p>2201 rows × 13 columns</p>\n",
       "</div>"
      ],
      "text/plain": [
       "     CRS_DEP_TIME CARRIER  DEP_TIME DEST  DISTANCE     FL_DATE  FL_NUM ORIGIN  \\\n",
       "0              15      OH      1455  JFK       184  01/01/2004    5935    BWI   \n",
       "1              16      DH      1640  JFK       213  01/01/2004    6155    DCA   \n",
       "2              12      DH      1245  LGA       229  01/01/2004    7208    IAD   \n",
       "3              17      DH      1709  LGA       229  01/01/2004    7215    IAD   \n",
       "4              10      DH      1035  LGA       229  01/01/2004    7792    IAD   \n",
       "...           ...     ...       ...  ...       ...         ...     ...    ...   \n",
       "2196            6      RU       644  EWR       199   1/31/2004    2761    DCA   \n",
       "2197           17      RU      1653  EWR       213   1/31/2004    2497    IAD   \n",
       "2198           16      RU      1558  EWR       199   1/31/2004    2361    DCA   \n",
       "2199           14      RU      1403  EWR       199   1/31/2004    2216    DCA   \n",
       "2200           17      RU      1736  EWR       199   1/31/2004    2097    DCA   \n",
       "\n",
       "      Weather DAY_WEEK  DAY_OF_MONTH TAIL_NUM Flight Status  \n",
       "0           0        4             1   N940CA        ontime  \n",
       "1           0        4             1   N405FJ        ontime  \n",
       "2           0        4             1   N695BR        ontime  \n",
       "3           0        4             1   N662BR        ontime  \n",
       "4           0        4             1   N698BR        ontime  \n",
       "...       ...      ...           ...      ...           ...  \n",
       "2196        0        6            31   N15555        ontime  \n",
       "2197        0        6            31   N16976        ontime  \n",
       "2198        0        6            31   N14902        ontime  \n",
       "2199        0        6            31   N16961        ontime  \n",
       "2200        0        6            31   N13994        ontime  \n",
       "\n",
       "[2201 rows x 13 columns]"
      ]
     },
     "execution_count": 7,
     "metadata": {},
     "output_type": "execute_result"
    }
   ],
   "source": [
    "delays_df"
   ]
  },
  {
   "cell_type": "code",
   "execution_count": 8,
   "metadata": {},
   "outputs": [],
   "source": [
    "# convert categorical variables into dummy/indicator variables\n",
    "predictors = ['DAY_WEEK', 'CRS_DEP_TIME', 'ORIGIN', 'DEST', 'CARRIER']\n",
    "outcome = 'Flight Status'\n",
    "X = pd.get_dummies(delays_df[predictors])\n",
    "y = delays_df['Flight Status'].astype('category')\n",
    "classes = list(y.cat.categories)\n"
   ]
  },
  {
   "cell_type": "markdown",
   "metadata": {},
   "source": [
    "### Train Naïve Bayes"
   ]
  },
  {
   "cell_type": "code",
   "execution_count": 9,
   "metadata": {},
   "outputs": [],
   "source": [
    "# Split data set (60%: training set, 40%: validation set)\n",
    "X_train, X_valid, y_train, y_valid = train_test_split(X, y, test_size=0.40,random_state=1)\n",
    "\n",
    "#Make and train naïve Bayes model\n",
    "delays_nb = MultinomialNB(alpha=0.01)\n",
    "delays_nb.fit(X_train, y_train)\n",
    "predProb_train = delays_nb.predict_proba(X_train)\n",
    "predProb_valid = delays_nb.predict_proba(X_valid)\n",
    "y_train_pred = delays_nb.predict(X_train)\n",
    "y_valid_pred = delays_nb.predict(X_valid)"
   ]
  },
  {
   "cell_type": "markdown",
   "metadata": {},
   "source": [
    "### Pivot Table\n",
    "Check how the algorithm works"
   ]
  },
  {
   "cell_type": "code",
   "execution_count": 6,
   "metadata": {},
   "outputs": [
    {
     "name": "stdout",
     "output_type": "stream",
     "text": [
      "ontime     0.8023\n",
      "delayed    0.1977\n",
      "Name: Flight Status, dtype: float64\n",
      "\n",
      "DAY_WEEK            1       2       3       4       5      6       7\n",
      "Flight Status                                                       \n",
      "delayed        0.1916  0.1494  0.1149  0.1264  0.1877  0.069  0.1609\n",
      "ontime         0.1246  0.1416  0.1445  0.1794  0.1690  0.136  0.1048\n",
      "CRS_DEP_TIME        6       7       8       9      10      11      12      13  \\\n",
      "Flight Status                                                                   \n",
      "delayed        0.0345  0.0536  0.0651  0.0192  0.0307  0.0115  0.0498  0.0460   \n",
      "ontime         0.0623  0.0633  0.0850  0.0567  0.0519  0.0340  0.0661  0.0746   \n",
      "\n",
      "CRS_DEP_TIME       14      15      16      17      18      19      20      21  \n",
      "Flight Status                                                                  \n",
      "delayed        0.0383  0.2031  0.0728  0.1533  0.0192  0.0996  0.0153  0.0881  \n",
      "ontime         0.0576  0.1171  0.0774  0.1001  0.0349  0.0397  0.0264  0.0529  \n",
      "ORIGIN            BWI     DCA     IAD\n",
      "Flight Status                        \n",
      "delayed        0.0805  0.5211  0.3985\n",
      "ontime         0.0604  0.6478  0.2918\n",
      "DEST              EWR     JFK     LGA\n",
      "Flight Status                        \n",
      "delayed        0.3793  0.1992  0.4215\n",
      "ontime         0.2663  0.1558  0.5779\n",
      "CARRIER            CO      DH      DL      MQ      OH      RU      UA      US\n",
      "Flight Status                                                                \n",
      "delayed        0.0575  0.3142  0.0958  0.2222  0.0077  0.2184  0.0153  0.0690\n",
      "ontime         0.0349  0.2295  0.2040  0.1171  0.0104  0.1690  0.0170  0.2181\n",
      "\n"
     ]
    }
   ],
   "source": [
    "# split the original data frame into a train and test using the same random_state\n",
    "train_df, valid_df = train_test_split(delays_df, test_size=0.4, random_state=1)\n",
    "pd.set_option('precision', 4)\n",
    "\n",
    "# probability of flight status\n",
    "print(train_df['Flight Status'].value_counts() / len(train_df))\n",
    "print()\n",
    "for predictor in predictors:\n",
    "    # construct the frequency table\n",
    "    df = train_df[['Flight Status', predictor]]\n",
    "    freqTable = df.pivot_table(index='Flight Status', columns=predictor, aggfunc=len)\n",
    "    # divide each value by the sum of the row to get conditional probabilities\n",
    "    propTable = freqTable.apply(lambda x: x / sum(x), axis=1)\n",
    "    print(propTable)\n",
    "print()\n",
    "pd.reset_option('precision')"
   ]
  },
  {
   "cell_type": "markdown",
   "metadata": {},
   "source": [
    "### Score Predictions\n",
    "Print predictions for a specific flight"
   ]
  },
  {
   "cell_type": "code",
   "execution_count": 7,
   "metadata": {},
   "outputs": [
    {
     "data": {
      "text/html": [
       "<div>\n",
       "<style scoped>\n",
       "    .dataframe tbody tr th:only-of-type {\n",
       "        vertical-align: middle;\n",
       "    }\n",
       "\n",
       "    .dataframe tbody tr th {\n",
       "        vertical-align: top;\n",
       "    }\n",
       "\n",
       "    .dataframe thead th {\n",
       "        text-align: right;\n",
       "    }\n",
       "</style>\n",
       "<table border=\"1\" class=\"dataframe\">\n",
       "  <thead>\n",
       "    <tr style=\"text-align: right;\">\n",
       "      <th></th>\n",
       "      <th>actual</th>\n",
       "      <th>predicted</th>\n",
       "      <th>0</th>\n",
       "      <th>1</th>\n",
       "    </tr>\n",
       "  </thead>\n",
       "  <tbody>\n",
       "    <tr>\n",
       "      <th>1225</th>\n",
       "      <td>ontime</td>\n",
       "      <td>ontime</td>\n",
       "      <td>0.057989</td>\n",
       "      <td>0.942011</td>\n",
       "    </tr>\n",
       "  </tbody>\n",
       "</table>\n",
       "</div>"
      ],
      "text/plain": [
       "      actual predicted         0         1\n",
       "1225  ontime    ontime  0.057989  0.942011"
      ]
     },
     "execution_count": 7,
     "metadata": {},
     "output_type": "execute_result"
    }
   ],
   "source": [
    "# classify a specific flight by searching in the dataset\n",
    "# for a flight with the same predictor values\n",
    "df = pd.concat([\n",
    "    pd.DataFrame({'actual': y_valid, 'predicted': y_valid_pred}),\n",
    "    pd.DataFrame(predProb_valid, index=y_valid.index)\n",
    "    ], axis=1)\n",
    "mask = ((X_valid.CARRIER_DL == 1) & (X_valid.DAY_WEEK_7 == 1) & (X_valid.CRS_DEP_TIME_10 == 1) & (X_valid.DEST_LGA == 1) &\n",
    "(X_valid.ORIGIN_DCA == 1))\n",
    "df[mask]"
   ]
  },
  {
   "cell_type": "markdown",
   "metadata": {},
   "source": [
    "### Confusion Matrix"
   ]
  },
  {
   "cell_type": "code",
   "execution_count": 8,
   "metadata": {},
   "outputs": [
    {
     "name": "stdout",
     "output_type": "stream",
     "text": [
      "Confusion Matrix (Accuracy 0.7955)\n",
      "\n",
      "        Prediction\n",
      " Actual delayed  ontime\n",
      "delayed      52     209\n",
      " ontime      61     998\n"
     ]
    }
   ],
   "source": [
    "# Confusion matrix of training data set \n",
    "classificationSummary(y_train, y_train_pred, class_names=classes)"
   ]
  },
  {
   "cell_type": "code",
   "execution_count": 9,
   "metadata": {},
   "outputs": [
    {
     "name": "stdout",
     "output_type": "stream",
     "text": [
      "Confusion Matrix (Accuracy 0.7821)\n",
      "\n",
      "        Prediction\n",
      " Actual delayed  ontime\n",
      "delayed      26     141\n",
      " ontime      51     663\n"
     ]
    }
   ],
   "source": [
    "# Confusion matrix of validation data set\n",
    "classificationSummary(y_valid, y_valid_pred, class_names=classes)"
   ]
  },
  {
   "cell_type": "markdown",
   "metadata": {},
   "source": [
    "### Cumulative Lift (Gain) Chart\n",
    "Use `gainsChart` to plot gain chart"
   ]
  },
  {
   "cell_type": "code",
   "execution_count": 26,
   "metadata": {},
   "outputs": [],
   "source": [
    "df = pd.DataFrame(\n",
    "    {'actual': 1 - y_valid.cat.codes, 'prob': predProb_valid[:, 0]}\n",
    "    )\n",
    "df = df.sort_values(by=['prob'], ascending=False).reset_index(drop=True)"
   ]
  },
  {
   "cell_type": "code",
   "execution_count": 27,
   "metadata": {},
   "outputs": [
    {
     "data": {
      "text/html": [
       "<div>\n",
       "<style scoped>\n",
       "    .dataframe tbody tr th:only-of-type {\n",
       "        vertical-align: middle;\n",
       "    }\n",
       "\n",
       "    .dataframe tbody tr th {\n",
       "        vertical-align: top;\n",
       "    }\n",
       "\n",
       "    .dataframe thead th {\n",
       "        text-align: right;\n",
       "    }\n",
       "</style>\n",
       "<table border=\"1\" class=\"dataframe\">\n",
       "  <thead>\n",
       "    <tr style=\"text-align: right;\">\n",
       "      <th></th>\n",
       "      <th>actual</th>\n",
       "      <th>prob</th>\n",
       "    </tr>\n",
       "  </thead>\n",
       "  <tbody>\n",
       "    <tr>\n",
       "      <th>0</th>\n",
       "      <td>1</td>\n",
       "      <td>0.705009</td>\n",
       "    </tr>\n",
       "    <tr>\n",
       "      <th>1</th>\n",
       "      <td>1</td>\n",
       "      <td>0.641926</td>\n",
       "    </tr>\n",
       "    <tr>\n",
       "      <th>2</th>\n",
       "      <td>0</td>\n",
       "      <td>0.641926</td>\n",
       "    </tr>\n",
       "    <tr>\n",
       "      <th>3</th>\n",
       "      <td>0</td>\n",
       "      <td>0.641926</td>\n",
       "    </tr>\n",
       "    <tr>\n",
       "      <th>4</th>\n",
       "      <td>1</td>\n",
       "      <td>0.641683</td>\n",
       "    </tr>\n",
       "    <tr>\n",
       "      <th>...</th>\n",
       "      <td>...</td>\n",
       "      <td>...</td>\n",
       "    </tr>\n",
       "    <tr>\n",
       "      <th>876</th>\n",
       "      <td>0</td>\n",
       "      <td>0.012182</td>\n",
       "    </tr>\n",
       "    <tr>\n",
       "      <th>877</th>\n",
       "      <td>0</td>\n",
       "      <td>0.012167</td>\n",
       "    </tr>\n",
       "    <tr>\n",
       "      <th>878</th>\n",
       "      <td>1</td>\n",
       "      <td>0.010793</td>\n",
       "    </tr>\n",
       "    <tr>\n",
       "      <th>879</th>\n",
       "      <td>0</td>\n",
       "      <td>0.007802</td>\n",
       "    </tr>\n",
       "    <tr>\n",
       "      <th>880</th>\n",
       "      <td>0</td>\n",
       "      <td>0.007802</td>\n",
       "    </tr>\n",
       "  </tbody>\n",
       "</table>\n",
       "<p>881 rows × 2 columns</p>\n",
       "</div>"
      ],
      "text/plain": [
       "     actual      prob\n",
       "0         1  0.705009\n",
       "1         1  0.641926\n",
       "2         0  0.641926\n",
       "3         0  0.641926\n",
       "4         1  0.641683\n",
       "..      ...       ...\n",
       "876       0  0.012182\n",
       "877       0  0.012167\n",
       "878       1  0.010793\n",
       "879       0  0.007802\n",
       "880       0  0.007802\n",
       "\n",
       "[881 rows x 2 columns]"
      ]
     },
     "execution_count": 27,
     "metadata": {},
     "output_type": "execute_result"
    }
   ],
   "source": [
    "df"
   ]
  },
  {
   "cell_type": "code",
   "execution_count": 29,
   "metadata": {},
   "outputs": [
    {
     "data": {
      "text/plain": [
       "<AxesSubplot:xlabel='# records', ylabel='# cumulative gains'>"
      ]
     },
     "execution_count": 29,
     "metadata": {},
     "output_type": "execute_result"
    },
    {
     "data": {
      "image/png": "[encoded data removed]",
      "text/plain": [
       "<Figure size 288x288 with 1 Axes>"
      ]
     },
     "metadata": {
      "needs_background": "light"
     },
     "output_type": "display_data"
    }
   ],
   "source": [
    "%matplotlib inline\n",
    "fig,ax = plt.subplots()\n",
    "fig.set_size_inches(4, 4)\n",
    "gainsChart(df.actual, ax=ax)"
   ]
  },
  {
   "cell_type": "code",
   "execution_count": 30,
   "metadata": {},
   "outputs": [
    {
     "data": {
      "image/png": "[encoded data removed]",
      "text/plain": [
       "<Figure size 432x288 with 1 Axes>"
      ]
     },
     "metadata": {
      "needs_background": "light"
     },
     "output_type": "display_data"
    }
   ],
   "source": [
    "from sklearn.metrics import roc_curve, auc, roc_auc_score, accuracy_score\n",
    "cutoffs = [i * 0.1 for i in range(0, 11)]\n",
    "accT = []\n",
    "for cutoff in cutoffs:\n",
    "    predicted = [1 if p > cutoff else 0 for p in df.prob]\n",
    "    accT.append(accuracy_score(df.actual, predicted))\n",
    "line_accuracy = plt.plot(cutoffs, accT, '-', label='Accuracy')[0]\n",
    "line_error = plt.plot(cutoffs, [1-acc for acc in accT], '--', label='Overall error')[0]\n",
    "plt.ylim([0,1])\n",
    "plt.xlabel('Cutoff Value')\n",
    "plt.legend(handles=[line_accuracy, line_error])\n",
    "plt.show()"
   ]
  },
  {
   "cell_type": "code",
   "execution_count": 31,
   "metadata": {},
   "outputs": [
    {
     "data": {
      "text/plain": [
       "0.6353721129170231"
      ]
     },
     "execution_count": 31,
     "metadata": {},
     "output_type": "execute_result"
    }
   ],
   "source": [
    "# generating ROC curve and computing AUC\n",
    "\n",
    "fpr, tpr, thresholds = roc_curve(df.actual, df.prob, pos_label=1)\n",
    "roc_auc = auc(fpr, tpr)\n",
    "roc_auc "
   ]
  },
  {
   "cell_type": "code",
   "execution_count": 32,
   "metadata": {},
   "outputs": [
    {
     "data": {
      "text/plain": [
       "<matplotlib.legend.Legend at 0x7f9d8425bc10>"
      ]
     },
     "execution_count": 32,
     "metadata": {},
     "output_type": "execute_result"
    },
    {
     "data": {
      "image/png": "[encoded data removed]",
      "text/plain": [
       "<Figure size 360x360 with 1 Axes>"
      ]
     },
     "metadata": {
      "needs_background": "light"
     },
     "output_type": "display_data"
    }
   ],
   "source": [
    "plt.figure(figsize=[5, 5])\n",
    "plt.plot(fpr, tpr, color='darkorange', lw=2, label='ROC curve (area = %0.4f)' % roc_auc)\n",
    "plt.plot([0, 1], [0, 1], color='navy', lw=2, linestyle='--')\n",
    "plt.xlim([0.0, 1.0])\n",
    "plt.ylim([0.0, 1.05])\n",
    "plt.xlabel('False Positive Rate (1 - Specificity)')\n",
    "plt.ylabel('True Positive Rate (Sensitivity)')\n",
    "plt.legend(loc=\"lower right\")"
   ]
  },
  {
   "cell_type": "code",
   "execution_count": null,
   "metadata": {},
   "outputs": [],
   "source": []
  }
 ],
 "metadata": {
  "kernelspec": {
   "display_name": "Python 3",
   "language": "python",
   "name": "python3"
  },
  "language_info": {
   "codemirror_mode": {
    "name": "ipython",
    "version": 3
   },
   "file_extension": ".py",
   "mimetype": "text/x-python",
   "name": "python",
   "nbconvert_exporter": "python",
   "pygments_lexer": "ipython3",
   "version": "3.8.5"
  }
 },
 "nbformat": 4,
 "nbformat_minor": 4
}
