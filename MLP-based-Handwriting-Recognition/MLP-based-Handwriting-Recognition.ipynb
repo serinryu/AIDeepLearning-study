{
  "nbformat": 4,
  "nbformat_minor": 0,
  "metadata": {
    "colab": {
      "name": "MLP-based-Handwriting-Recognition.ipynb",
      "provenance": [],
      "collapsed_sections": [],
      "mount_file_id": "1sdl9SMPTP7bFo62Pi9EBp4tf9jg_3Iyk",
      "authorship_tag": "ABX9TyNhFWpIy0h+h6JMQr3UgYLx",
      "include_colab_link": true
    },
    "kernelspec": {
      "name": "python3",
      "display_name": "Python 3"
    },
    "language_info": {
      "name": "python"
    },
    "accelerator": "GPU"
  },
  "cells": [
    {
      "cell_type": "markdown",
      "metadata": {
        "id": "view-in-github",
        "colab_type": "text"
      },
      "source": [
        "<a href=\"https://colab.research.google.com/github/serinryu/AIDeepLearning-study/blob/main/MLP_based_Handwriting_Recognition/MLP_based_Handwriting_Recognition.ipynb\" target=\"_parent\"><img src=\"https://colab.research.google.com/assets/colab-badge.svg\" alt=\"Open In Colab\"/></a>"
      ]
    },
    {
      "cell_type": "markdown",
      "source": [
        "# **MLP 신경망** \n",
        ": 멀티 레이어 퍼셉트론 (노드들이 여러개 있는 퍼셉트론)\n",
        "\n",
        "---\n",
        "\n",
        "> ### ✏️ problem definition\n",
        "Handwriting recognition (classify image labels with 10 classes)\n",
        "손글씨가 어떤 숫자인지 분류하는 모델을 만들 것\n",
        "\n",
        "\n",
        "> ### ✏️ solution design\n",
        "1. input\n",
        "  - handwritten numerical images provided by the MNIST dataset (mnist_train.csv)\n",
        "2. pre-processing\n",
        "  - split train/test set\n",
        "  - normalization\n",
        "3. MLP modeling\n",
        "  - fully connected layer (# layer : 2)\n",
        "  - softmax activation\n",
        "  - loss function: cross entropy\n",
        "4. output\n",
        "  - predicted label size:10\n",
        "5. evaluation\n",
        "  - accuracy graph\n",
        "  - loss graph\n",
        "6. analysis\n",
        "  - confusion matrix\n",
        "\n",
        "\n",
        "> ### ✏️Implementation using Tensorflow\n",
        "- Pre processing\n",
        "  - to_categorical(label_list) : Converts a class vector (integers) to a binary class matrix\n",
        "- MLP modeling\n",
        "  - placeholder(type, matrix_size),variable(matrix) : Basic units of TensorFlow operation\n",
        "  - softmax(numeric_list) : Assigns decimal probabilities to each class in a multi class problem\n",
        "  - GradientDescentOptimizer (ratio).minimize(loss) : Descents the gradient of loss as much as ratio"
      ],
      "metadata": {
        "id": "durFozE8tQNF"
      }
    },
    {
      "cell_type": "markdown",
      "source": [
        "# 1. Load Dataset"
      ],
      "metadata": {
        "id": "OokDKUqjjkSi"
      }
    },
    {
      "cell_type": "code",
      "execution_count": null,
      "metadata": {
        "id": "ZYlDyx7ziOfF"
      },
      "outputs": [],
      "source": [
        "import pandas as pd"
      ]
    },
    {
      "cell_type": "code",
      "source": [
        "mnist_csv = pd.read_csv ('mnist_train.csv', header=None, skiprows=1).values"
      ],
      "metadata": {
        "id": "RRdP9-Z1in9n"
      },
      "execution_count": null,
      "outputs": []
    },
    {
      "cell_type": "code",
      "source": [
        "mnist_csv"
      ],
      "metadata": {
        "colab": {
          "base_uri": "https://localhost:8080/"
        },
        "id": "SC6QuyIrir_a",
        "outputId": "c0843a2e-7e6a-4ebe-95b5-d925a9dc9723"
      },
      "execution_count": null,
      "outputs": [
        {
          "output_type": "execute_result",
          "data": {
            "text/plain": [
              "array([[5, 0, 0, ..., 0, 0, 0],\n",
              "       [0, 0, 0, ..., 0, 0, 0],\n",
              "       [4, 0, 0, ..., 0, 0, 0],\n",
              "       ...,\n",
              "       [5, 0, 0, ..., 0, 0, 0],\n",
              "       [6, 0, 0, ..., 0, 0, 0],\n",
              "       [8, 0, 0, ..., 0, 0, 0]])"
            ]
          },
          "metadata": {},
          "execution_count": 5
        }
      ]
    },
    {
      "cell_type": "markdown",
      "source": [
        "#2. Pre-processing"
      ],
      "metadata": {
        "id": "76KSRJTukgVz"
      }
    },
    {
      "cell_type": "markdown",
      "source": [
        "### 2.1 Divide the dataset into training and test sets"
      ],
      "metadata": {
        "id": "6ITwb0OLphMs"
      }
    },
    {
      "cell_type": "code",
      "source": [
        "#train_test_split : sklearn.model_selection 내부에 있는 함수. Randomly split the dataset to training and test datasets\n",
        "from sklearn.model_selection import train_test_split\n",
        "train, test = train_test_split(mnist_csv , test_size =0.3, random_state=1) #무작위 30%는 test로, 나머지 70%는 train(학습용)데이터로 할당"
      ],
      "metadata": {
        "id": "goYkQSR0kpvz"
      },
      "execution_count": null,
      "outputs": []
    },
    {
      "cell_type": "code",
      "source": [
        "#확인\n",
        "train"
      ],
      "metadata": {
        "colab": {
          "base_uri": "https://localhost:8080/"
        },
        "id": "zRcXd5GZl4sY",
        "outputId": "e03348aa-b613-4ef6-a224-96dee40f72ba"
      },
      "execution_count": null,
      "outputs": [
        {
          "output_type": "execute_result",
          "data": {
            "text/plain": [
              "array([[2, 0, 0, ..., 0, 0, 0],\n",
              "       [7, 0, 0, ..., 0, 0, 0],\n",
              "       [6, 0, 0, ..., 0, 0, 0],\n",
              "       ...,\n",
              "       [0, 0, 0, ..., 0, 0, 0],\n",
              "       [9, 0, 0, ..., 0, 0, 0],\n",
              "       [0, 0, 0, ..., 0, 0, 0]])"
            ]
          },
          "metadata": {},
          "execution_count": 7
        }
      ]
    },
    {
      "cell_type": "code",
      "source": [
        "test"
      ],
      "metadata": {
        "colab": {
          "base_uri": "https://localhost:8080/"
        },
        "id": "zOcjVKDXl7vk",
        "outputId": "59584ad1-f428-43a0-bd3b-d247d834ebba"
      },
      "execution_count": null,
      "outputs": [
        {
          "output_type": "execute_result",
          "data": {
            "text/plain": [
              "array([[3, 0, 0, ..., 0, 0, 0],\n",
              "       [2, 0, 0, ..., 0, 0, 0],\n",
              "       [7, 0, 0, ..., 0, 0, 0],\n",
              "       ...,\n",
              "       [3, 0, 0, ..., 0, 0, 0],\n",
              "       [9, 0, 0, ..., 0, 0, 0],\n",
              "       [2, 0, 0, ..., 0, 0, 0]])"
            ]
          },
          "metadata": {},
          "execution_count": 8
        }
      ]
    },
    {
      "cell_type": "code",
      "source": [
        "train.shape"
      ],
      "metadata": {
        "colab": {
          "base_uri": "https://localhost:8080/"
        },
        "id": "YAh5Pjfsl9a3",
        "outputId": "f08f8cb5-0ef5-43ef-bb0d-5d3774f7632d"
      },
      "execution_count": null,
      "outputs": [
        {
          "output_type": "execute_result",
          "data": {
            "text/plain": [
              "(42000, 785)"
            ]
          },
          "metadata": {},
          "execution_count": 9
        }
      ]
    },
    {
      "cell_type": "code",
      "source": [
        "test.shape"
      ],
      "metadata": {
        "colab": {
          "base_uri": "https://localhost:8080/"
        },
        "id": "nQprXyXrl_Ga",
        "outputId": "a0f4bc77-01ba-4ac1-db35-9a58436f150a"
      },
      "execution_count": null,
      "outputs": [
        {
          "output_type": "execute_result",
          "data": {
            "text/plain": [
              "(18000, 785)"
            ]
          },
          "metadata": {},
          "execution_count": 10
        }
      ]
    },
    {
      "cell_type": "markdown",
      "source": [
        "### 2.2 Convert label values to one-hot vectors"
      ],
      "metadata": {
        "id": "q93jTOZVpnLU"
      }
    },
    {
      "cell_type": "code",
      "source": [
        "#다차원 배열일 때는 콤마(comma ,)를 사용하여 접근할 수 있다. : array[행,열]\n",
        "#to_categorical : Convert the label values to one hot vectors. 즉, Converts a class vector (integers) to a binary class matrix (ex. In MNIST : [4] -> [0,0,0,0,1,0,0,0,0])\n",
        "from tensorflow.keras import utils\n",
        "Y_train , X_train = utils.to_categorical(train[:,0]), train[:,1:] #Y_train에는 전체 행의 0번째열만 들어가고, X_train에는 전체 행의 1번째행부터 끝까지 들어간다. \n",
        "Y_test , X_test = utils.to_categorical(test[:,0]), test[:,1:]\n",
        "print(X_train.shape , Y_train.shape)\n",
        "print(X_test.shape , Y_test.shape)"
      ],
      "metadata": {
        "colab": {
          "base_uri": "https://localhost:8080/"
        },
        "id": "uZ5bru_xk7qU",
        "outputId": "21b08a3d-fbf5-47bd-fc1d-3987ac611720"
      },
      "execution_count": null,
      "outputs": [
        {
          "output_type": "stream",
          "name": "stdout",
          "text": [
            "(42000, 784) (42000, 10)\n",
            "(18000, 784) (18000, 10)\n"
          ]
        }
      ]
    },
    {
      "cell_type": "code",
      "source": [
        "#확인\n",
        "train[:,0] #전체 행의 0번째열"
      ],
      "metadata": {
        "colab": {
          "base_uri": "https://localhost:8080/"
        },
        "id": "xag-5Ie4oiZD",
        "outputId": "7850af17-46d1-4d3f-f0ca-503060dac750"
      },
      "execution_count": null,
      "outputs": [
        {
          "output_type": "execute_result",
          "data": {
            "text/plain": [
              "array([2, 7, 6, ..., 0, 9, 0])"
            ]
          },
          "metadata": {},
          "execution_count": 12
        }
      ]
    },
    {
      "cell_type": "code",
      "source": [
        "utils.to_categorical(train[:,0]) #이러한 형태로 바꿔주는 것을 one hot enconding 이라고 한다."
      ],
      "metadata": {
        "colab": {
          "base_uri": "https://localhost:8080/"
        },
        "id": "4dA8JH7mn40n",
        "outputId": "4447622d-0743-4db6-8b88-070e82788ff6"
      },
      "execution_count": null,
      "outputs": [
        {
          "output_type": "execute_result",
          "data": {
            "text/plain": [
              "array([[0., 0., 1., ..., 0., 0., 0.],\n",
              "       [0., 0., 0., ..., 1., 0., 0.],\n",
              "       [0., 0., 0., ..., 0., 0., 0.],\n",
              "       ...,\n",
              "       [1., 0., 0., ..., 0., 0., 0.],\n",
              "       [0., 0., 0., ..., 0., 0., 1.],\n",
              "       [1., 0., 0., ..., 0., 0., 0.]], dtype=float32)"
            ]
          },
          "metadata": {},
          "execution_count": 13
        }
      ]
    },
    {
      "cell_type": "code",
      "source": [
        "test[:,0] #전체 행의 0번째열"
      ],
      "metadata": {
        "id": "554KxrJgomzt",
        "colab": {
          "base_uri": "https://localhost:8080/"
        },
        "outputId": "595394d7-9066-4908-a564-f5f81472cf61"
      },
      "execution_count": null,
      "outputs": [
        {
          "output_type": "execute_result",
          "data": {
            "text/plain": [
              "array([3, 2, 7, ..., 3, 9, 2])"
            ]
          },
          "metadata": {},
          "execution_count": 14
        }
      ]
    },
    {
      "cell_type": "code",
      "source": [
        "utils.to_categorical(test[:,0]) "
      ],
      "metadata": {
        "colab": {
          "base_uri": "https://localhost:8080/"
        },
        "id": "2FS2BGbsoYhL",
        "outputId": "93b6676a-6bec-4167-b2be-79bc144f9d12"
      },
      "execution_count": null,
      "outputs": [
        {
          "output_type": "execute_result",
          "data": {
            "text/plain": [
              "array([[0., 0., 0., ..., 0., 0., 0.],\n",
              "       [0., 0., 1., ..., 0., 0., 0.],\n",
              "       [0., 0., 0., ..., 1., 0., 0.],\n",
              "       ...,\n",
              "       [0., 0., 0., ..., 0., 0., 0.],\n",
              "       [0., 0., 0., ..., 0., 0., 1.],\n",
              "       [0., 0., 1., ..., 0., 0., 0.]], dtype=float32)"
            ]
          },
          "metadata": {},
          "execution_count": 15
        }
      ]
    },
    {
      "cell_type": "markdown",
      "source": [
        "### 2.3 Normalization : Convert values to be between 0 and 1\n",
        "\n",
        "X_train[0] 을 찍어보면 0부터 255까지 범위가 너무 큰 것을 확인할 수 있다. 범위가 너무 크면 모델이 제대로 학습을 못하기 때문에 정규화를 해줄 필요가 있다."
      ],
      "metadata": {
        "id": "0DLdE3FMqIOX"
      }
    },
    {
      "cell_type": "code",
      "source": [
        "X_train[0]"
      ],
      "metadata": {
        "colab": {
          "base_uri": "https://localhost:8080/"
        },
        "id": "Y0FbpwpAqNOy",
        "outputId": "1d7a8ee5-29e7-4ce1-c269-ac4900681a07"
      },
      "execution_count": null,
      "outputs": [
        {
          "output_type": "execute_result",
          "data": {
            "text/plain": [
              "array([  0,   0,   0,   0,   0,   0,   0,   0,   0,   0,   0,   0,   0,\n",
              "         0,   0,   0,   0,   0,   0,   0,   0,   0,   0,   0,   0,   0,\n",
              "         0,   0,   0,   0,   0,   0,   0,   0,   0,   0,   0,   0,   0,\n",
              "         0,   0,   0,   0,   0,   0,   0,   0,   0,   0,   0,   0,   0,\n",
              "         0,   0,   0,   0,   0,   0,   0,   0,   0,   0,   0,   0,   0,\n",
              "         0,   0,   0,   0,   0,   0,   0,   0,   0,   0,   0,   0,   0,\n",
              "         0,   0,   0,   0,   0,   0,   0,   0,   0,   0,   0,   0,   0,\n",
              "         0,   0,   0,   0,   0,   0,   0,   0,   0,   0,   0,   0,   0,\n",
              "         0,   0,   0,   0,   0,   0,   0,   0,   0,   0,   0,   0,  61,\n",
              "       125, 125, 245, 255, 254, 255, 255, 254, 221,  96,   0,   0,   0,\n",
              "         0,   0,   0,   0,   0,   0,   0,   0,   0,   0,   0,   0,   0,\n",
              "         0, 125, 253, 253, 205, 135, 135, 135, 172, 253, 253, 252, 154,\n",
              "        36,   0,   0,   0,   0,   0,   0,   0,   0,   0,   0,   0,   0,\n",
              "         0,   0,   0, 125, 253,  23,   7,   0,   0,   0,   4,  12,  75,\n",
              "       253, 253, 221,  94,   0,   0,   0,   0,   0,   0,   0,   0,   0,\n",
              "         0,   0,   0,   0,   0,   9,  19,   1,   0,   0,   0,   0,   0,\n",
              "         0,   5,  49, 224, 253, 250,  84,   0,   0,   0,   0,   0,   0,\n",
              "         0,   0,   0,   0,   0,   0,   0,   0,   0,   0,   0,   0,   0,\n",
              "         0,   0,   0,   0,   0,  45, 223, 253, 220,  38,   0,   0,   0,\n",
              "         0,   0,   0,   0,   0,   0,   0,   0,   0,   0,   0,   0,   0,\n",
              "         0,   0,   0,   0,   0,   0,   0,   0,  62, 253, 253, 143,   0,\n",
              "         0,   0,   0,   0,   0,   0,   0,   0,   0,   0,   0,   0,   0,\n",
              "         0,   0,   0,   0,   0,   0,   0,   0,   0,   0,   7, 126, 223,\n",
              "       236,  35,   0,   0,   0,   0,   0,   0,   0,   0,   0,   0,   0,\n",
              "         0,   0,   0,   0,   0,   0,   0,   0,   0,   0,   0,   0,   0,\n",
              "         0, 124, 253, 104,   0,   0,   0,   0,   0,   0,   0,   0,   0,\n",
              "         0,   0,   0,   0,   0,   0,   0,   0,   0,   0,   0,   0,   0,\n",
              "         0,   0,   0,  33, 253, 104,   0,   0,   0,   0,   0,   0,   0,\n",
              "         0,   0,   0,   0,   0,   0,   0,   0,   0,   0,   0,   0,   0,\n",
              "         0,   0,   0,   0,   0,  33, 253, 204,   0,   0,   0,   0,   0,\n",
              "         0,   0,   0,   0,   0,   0,   0,   0,   0,   0,   0,   0,   0,\n",
              "         0,   0,   0,   0,   0,   0,   0,  33, 253, 234,   0,   0,   0,\n",
              "         0,   0,   0,   0,   0,   0,   0,   0,   0,   0,   0,   0,   0,\n",
              "         0,   0,   0,  15,  87, 183, 183, 159,  18,  33, 253, 244,  57,\n",
              "         0,   0,   0,   0,   0,   0,   0,   0,   0,   0,   0,   0,   0,\n",
              "         0,   0,  17,  46, 153, 198, 253, 253, 253, 253, 201, 186, 253,\n",
              "       234,   0,   0,   0,   0,   0,   0,   0,   0,   0,   0,   0,   0,\n",
              "         0,   0,   0,  16, 184, 253, 241, 177,  84,  84, 111, 214, 240,\n",
              "       253, 253, 234,   0,   0,   0,   0,   0,   0,   0,   0,   0,   0,\n",
              "         0,   0,   0,   0,  14, 185, 253, 242,  86,   0,   0,   0,   0,\n",
              "         0,  61, 178, 253, 246, 155,   0,   0,   0,   0,   0,   0,   0,\n",
              "         0,   0,   0,   0,   0,   0, 105, 253, 244,  84,   0,   0,   0,\n",
              "         0,   0,   0,   0, 114, 253, 253, 248, 153,  13,   0,   0,   0,\n",
              "         0,   0,   0,   0,   0,   0,   0,   0,  97, 251, 162,   0,   0,\n",
              "         0,   0,   0,   0,   4, 108, 216, 251, 166, 235, 253, 123,   0,\n",
              "         0,   0,   0,   0,   0,   0,   0,   0,   0,   0,   0, 228, 214,\n",
              "       101,  10,   0,   0,   0,  10, 124, 253, 252, 148,   0,   6, 110,\n",
              "        54,   0,   0,   0,   0,   0,   0,   0,   0,   0,   0,   0,   0,\n",
              "       155, 252, 253, 217, 137, 137, 137, 221, 253, 249, 147,   0,   0,\n",
              "         0,   0,   0,   0,   0,   0,   0,   0,   0,   0,   0,   0,   0,\n",
              "         0,   0,   0, 154, 253, 253, 253, 253, 253, 253, 230,  41,   0,\n",
              "         0,   0,   0,   0,   0,   0,   0,   0,   0,   0,   0,   0,   0,\n",
              "         0,   0,   0,   0,   0,   0,   0,   0,   0,   0,   0,   0,   0,\n",
              "         0,   0,   0,   0,   0,   0,   0,   0,   0,   0,   0,   0,   0,\n",
              "         0,   0,   0,   0,   0,   0,   0,   0,   0,   0,   0,   0,   0,\n",
              "         0,   0,   0,   0,   0,   0,   0,   0,   0,   0,   0,   0,   0,\n",
              "         0,   0,   0,   0,   0,   0,   0,   0,   0,   0,   0,   0,   0,\n",
              "         0,   0,   0,   0,   0,   0,   0,   0,   0,   0,   0,   0,   0,\n",
              "         0,   0,   0,   0,   0,   0,   0,   0,   0,   0,   0,   0,   0,\n",
              "         0,   0,   0,   0,   0,   0,   0,   0,   0,   0,   0,   0,   0,\n",
              "         0,   0,   0,   0])"
            ]
          },
          "metadata": {},
          "execution_count": 16
        }
      ]
    },
    {
      "cell_type": "code",
      "source": [
        "X_train_norm = (X_train)/255  #pixcel 데이터이므로 0부터 255까지의 값만 갖는다. 따라서 255를 나눠주면 된다.\n",
        "X_test_norm = (X_test)/255 \n",
        "print(Y_train[0])\n",
        "print(X_train_norm[0])"
      ],
      "metadata": {
        "colab": {
          "base_uri": "https://localhost:8080/"
        },
        "id": "x0Suuqs1qQlo",
        "outputId": "7af8f2ff-69de-4ada-99fb-c2a348fa3278"
      },
      "execution_count": null,
      "outputs": [
        {
          "output_type": "stream",
          "name": "stdout",
          "text": [
            "[0. 0. 1. 0. 0. 0. 0. 0. 0. 0.]\n",
            "[0.         0.         0.         0.         0.         0.\n",
            " 0.         0.         0.         0.         0.         0.\n",
            " 0.         0.         0.         0.         0.         0.\n",
            " 0.         0.         0.         0.         0.         0.\n",
            " 0.         0.         0.         0.         0.         0.\n",
            " 0.         0.         0.         0.         0.         0.\n",
            " 0.         0.         0.         0.         0.         0.\n",
            " 0.         0.         0.         0.         0.         0.\n",
            " 0.         0.         0.         0.         0.         0.\n",
            " 0.         0.         0.         0.         0.         0.\n",
            " 0.         0.         0.         0.         0.         0.\n",
            " 0.         0.         0.         0.         0.         0.\n",
            " 0.         0.         0.         0.         0.         0.\n",
            " 0.         0.         0.         0.         0.         0.\n",
            " 0.         0.         0.         0.         0.         0.\n",
            " 0.         0.         0.         0.         0.         0.\n",
            " 0.         0.         0.         0.         0.         0.\n",
            " 0.         0.         0.         0.         0.         0.\n",
            " 0.         0.         0.         0.         0.         0.\n",
            " 0.         0.         0.23921569 0.49019608 0.49019608 0.96078431\n",
            " 1.         0.99607843 1.         1.         0.99607843 0.86666667\n",
            " 0.37647059 0.         0.         0.         0.         0.\n",
            " 0.         0.         0.         0.         0.         0.\n",
            " 0.         0.         0.         0.         0.         0.\n",
            " 0.49019608 0.99215686 0.99215686 0.80392157 0.52941176 0.52941176\n",
            " 0.52941176 0.6745098  0.99215686 0.99215686 0.98823529 0.60392157\n",
            " 0.14117647 0.         0.         0.         0.         0.\n",
            " 0.         0.         0.         0.         0.         0.\n",
            " 0.         0.         0.         0.         0.49019608 0.99215686\n",
            " 0.09019608 0.02745098 0.         0.         0.         0.01568627\n",
            " 0.04705882 0.29411765 0.99215686 0.99215686 0.86666667 0.36862745\n",
            " 0.         0.         0.         0.         0.         0.\n",
            " 0.         0.         0.         0.         0.         0.\n",
            " 0.         0.         0.03529412 0.0745098  0.00392157 0.\n",
            " 0.         0.         0.         0.         0.         0.01960784\n",
            " 0.19215686 0.87843137 0.99215686 0.98039216 0.32941176 0.\n",
            " 0.         0.         0.         0.         0.         0.\n",
            " 0.         0.         0.         0.         0.         0.\n",
            " 0.         0.         0.         0.         0.         0.\n",
            " 0.         0.         0.         0.         0.         0.17647059\n",
            " 0.8745098  0.99215686 0.8627451  0.14901961 0.         0.\n",
            " 0.         0.         0.         0.         0.         0.\n",
            " 0.         0.         0.         0.         0.         0.\n",
            " 0.         0.         0.         0.         0.         0.\n",
            " 0.         0.         0.         0.         0.24313725 0.99215686\n",
            " 0.99215686 0.56078431 0.         0.         0.         0.\n",
            " 0.         0.         0.         0.         0.         0.\n",
            " 0.         0.         0.         0.         0.         0.\n",
            " 0.         0.         0.         0.         0.         0.\n",
            " 0.         0.         0.02745098 0.49411765 0.8745098  0.9254902\n",
            " 0.1372549  0.         0.         0.         0.         0.\n",
            " 0.         0.         0.         0.         0.         0.\n",
            " 0.         0.         0.         0.         0.         0.\n",
            " 0.         0.         0.         0.         0.         0.\n",
            " 0.         0.         0.48627451 0.99215686 0.40784314 0.\n",
            " 0.         0.         0.         0.         0.         0.\n",
            " 0.         0.         0.         0.         0.         0.\n",
            " 0.         0.         0.         0.         0.         0.\n",
            " 0.         0.         0.         0.         0.         0.\n",
            " 0.12941176 0.99215686 0.40784314 0.         0.         0.\n",
            " 0.         0.         0.         0.         0.         0.\n",
            " 0.         0.         0.         0.         0.         0.\n",
            " 0.         0.         0.         0.         0.         0.\n",
            " 0.         0.         0.         0.         0.12941176 0.99215686\n",
            " 0.8        0.         0.         0.         0.         0.\n",
            " 0.         0.         0.         0.         0.         0.\n",
            " 0.         0.         0.         0.         0.         0.\n",
            " 0.         0.         0.         0.         0.         0.\n",
            " 0.         0.         0.12941176 0.99215686 0.91764706 0.\n",
            " 0.         0.         0.         0.         0.         0.\n",
            " 0.         0.         0.         0.         0.         0.\n",
            " 0.         0.         0.         0.         0.         0.\n",
            " 0.05882353 0.34117647 0.71764706 0.71764706 0.62352941 0.07058824\n",
            " 0.12941176 0.99215686 0.95686275 0.22352941 0.         0.\n",
            " 0.         0.         0.         0.         0.         0.\n",
            " 0.         0.         0.         0.         0.         0.\n",
            " 0.         0.06666667 0.18039216 0.6        0.77647059 0.99215686\n",
            " 0.99215686 0.99215686 0.99215686 0.78823529 0.72941176 0.99215686\n",
            " 0.91764706 0.         0.         0.         0.         0.\n",
            " 0.         0.         0.         0.         0.         0.\n",
            " 0.         0.         0.         0.         0.0627451  0.72156863\n",
            " 0.99215686 0.94509804 0.69411765 0.32941176 0.32941176 0.43529412\n",
            " 0.83921569 0.94117647 0.99215686 0.99215686 0.91764706 0.\n",
            " 0.         0.         0.         0.         0.         0.\n",
            " 0.         0.         0.         0.         0.         0.\n",
            " 0.         0.05490196 0.7254902  0.99215686 0.94901961 0.3372549\n",
            " 0.         0.         0.         0.         0.         0.23921569\n",
            " 0.69803922 0.99215686 0.96470588 0.60784314 0.         0.\n",
            " 0.         0.         0.         0.         0.         0.\n",
            " 0.         0.         0.         0.         0.         0.41176471\n",
            " 0.99215686 0.95686275 0.32941176 0.         0.         0.\n",
            " 0.         0.         0.         0.         0.44705882 0.99215686\n",
            " 0.99215686 0.97254902 0.6        0.05098039 0.         0.\n",
            " 0.         0.         0.         0.         0.         0.\n",
            " 0.         0.         0.         0.38039216 0.98431373 0.63529412\n",
            " 0.         0.         0.         0.         0.         0.\n",
            " 0.01568627 0.42352941 0.84705882 0.98431373 0.65098039 0.92156863\n",
            " 0.99215686 0.48235294 0.         0.         0.         0.\n",
            " 0.         0.         0.         0.         0.         0.\n",
            " 0.         0.         0.89411765 0.83921569 0.39607843 0.03921569\n",
            " 0.         0.         0.         0.03921569 0.48627451 0.99215686\n",
            " 0.98823529 0.58039216 0.         0.02352941 0.43137255 0.21176471\n",
            " 0.         0.         0.         0.         0.         0.\n",
            " 0.         0.         0.         0.         0.         0.\n",
            " 0.60784314 0.98823529 0.99215686 0.85098039 0.5372549  0.5372549\n",
            " 0.5372549  0.86666667 0.99215686 0.97647059 0.57647059 0.\n",
            " 0.         0.         0.         0.         0.         0.\n",
            " 0.         0.         0.         0.         0.         0.\n",
            " 0.         0.         0.         0.         0.         0.60392157\n",
            " 0.99215686 0.99215686 0.99215686 0.99215686 0.99215686 0.99215686\n",
            " 0.90196078 0.16078431 0.         0.         0.         0.\n",
            " 0.         0.         0.         0.         0.         0.\n",
            " 0.         0.         0.         0.         0.         0.\n",
            " 0.         0.         0.         0.         0.         0.\n",
            " 0.         0.         0.         0.         0.         0.\n",
            " 0.         0.         0.         0.         0.         0.\n",
            " 0.         0.         0.         0.         0.         0.\n",
            " 0.         0.         0.         0.         0.         0.\n",
            " 0.         0.         0.         0.         0.         0.\n",
            " 0.         0.         0.         0.         0.         0.\n",
            " 0.         0.         0.         0.         0.         0.\n",
            " 0.         0.         0.         0.         0.         0.\n",
            " 0.         0.         0.         0.         0.         0.\n",
            " 0.         0.         0.         0.         0.         0.\n",
            " 0.         0.         0.         0.         0.         0.\n",
            " 0.         0.         0.         0.         0.         0.\n",
            " 0.         0.         0.         0.         0.         0.\n",
            " 0.         0.         0.         0.         0.         0.\n",
            " 0.         0.         0.         0.         0.         0.\n",
            " 0.         0.         0.         0.         0.         0.\n",
            " 0.         0.         0.         0.        ]\n"
          ]
        }
      ]
    },
    {
      "cell_type": "markdown",
      "source": [
        "### 2.4 Visualization : Convert normalized vector to image"
      ],
      "metadata": {
        "id": "m3mddicpsY26"
      }
    },
    {
      "cell_type": "code",
      "source": [
        "%matplotlib inline\n",
        "import matplotlib.pyplot as plt\n",
        "import numpy as np\n",
        "plt.imshow( np.reshape(X_train_norm[0], (28, 28)) , cmap=plt.cm.Blues) #np.reshape로 X_train_norm[0] 을 28X28 2차원 배열로 reshape "
      ],
      "metadata": {
        "colab": {
          "base_uri": "https://localhost:8080/",
          "height": 282
        },
        "id": "D42n9ShMqXBO",
        "outputId": "11b1510b-e825-4359-c9e8-a1ff552311c1"
      },
      "execution_count": null,
      "outputs": [
        {
          "output_type": "execute_result",
          "data": {
            "text/plain": [
              "<matplotlib.image.AxesImage at 0x7f82722c3350>"
            ]
          },
          "metadata": {},
          "execution_count": 18
        },
        {
          "output_type": "display_data",
          "data": {
            "text/plain": [
              "<Figure size 432x288 with 1 Axes>"
            ],
            "image/png": "[encoded data removed]"
          },
          "metadata": {
            "needs_background": "light"
          }
        }
      ]
    },
    {
      "cell_type": "code",
      "source": [
        "plt.imshow( np.reshape(X_train_norm[1], (28, 28)) , cmap=plt.cm.Blues)"
      ],
      "metadata": {
        "colab": {
          "base_uri": "https://localhost:8080/",
          "height": 282
        },
        "id": "_MGiEBcbtFQi",
        "outputId": "eb0d9d23-918c-4306-d02b-6c514fa3bb9f"
      },
      "execution_count": null,
      "outputs": [
        {
          "output_type": "execute_result",
          "data": {
            "text/plain": [
              "<matplotlib.image.AxesImage at 0x7f8271e28250>"
            ]
          },
          "metadata": {},
          "execution_count": 19
        },
        {
          "output_type": "display_data",
          "data": {
            "text/plain": [
              "<Figure size 432x288 with 1 Axes>"
            ],
            "image/png": "[encoded data removed]"
          },
          "metadata": {
            "needs_background": "light"
          }
        }
      ]
    },
    {
      "cell_type": "code",
      "source": [
        "plt.imshow( np.reshape(X_train_norm[2], (28, 28)) , cmap=plt.cm.Blues)"
      ],
      "metadata": {
        "colab": {
          "base_uri": "https://localhost:8080/",
          "height": 282
        },
        "id": "PtDvZJlntJE_",
        "outputId": "ce08b971-30a1-4bc7-ff0c-c3a951764559"
      },
      "execution_count": null,
      "outputs": [
        {
          "output_type": "execute_result",
          "data": {
            "text/plain": [
              "<matplotlib.image.AxesImage at 0x7f8271d8aed0>"
            ]
          },
          "metadata": {},
          "execution_count": 20
        },
        {
          "output_type": "display_data",
          "data": {
            "text/plain": [
              "<Figure size 432x288 with 1 Axes>"
            ],
            "image/png": "[encoded data removed]"
          },
          "metadata": {
            "needs_background": "light"
          }
        }
      ]
    },
    {
      "cell_type": "markdown",
      "source": [
        "#3. MLP Modeling : Build a MLP model with 2 hidden layers using \n",
        "\n",
        "- 모델을 만드는 패키지는 대표적으로 TensorFlo\bw, Keras, Pytorch 등이 있다. 참고로, Keras 는 TensorFlow 보다 더 concise 해서 좋다!\n",
        "\n",
        "- 그렇다면, Keras 를 사용해서 model을 만들어보자. \n",
        "\n",
        "\n",
        "  - [Keras 함수] MLP modeling\n",
        "\n",
        "    - Sequential(): Model that linear stack of layers\n",
        "    - Dense(): Fully connected NN layer\n",
        "    - SGD (): The SGD optimizer\n",
        "    - compile(): Configures the model for training\n",
        "\n",
        "  - [Keras 함수] Training and evaluating\n",
        "    - fit(): Train and verify the model with the given parameters\n",
        "    - predict(): Returns the predicted value of the model for the test data"
      ],
      "metadata": {
        "id": "rlQqpP3RtLOA"
      }
    },
    {
      "cell_type": "markdown",
      "source": [
        "### 3.1 Build MLP structure (모델 구성)"
      ],
      "metadata": {
        "id": "wtimcN5yolek"
      }
    },
    {
      "cell_type": "code",
      "source": [
        "from tensorflow.keras.models import Sequential\n",
        "from tensorflow.keras.layers import Dense\n",
        "from tensorflow.keras.optimizers import SGD\n",
        "\n",
        "mlp_model= Sequential()\n",
        "mlp_model.add(Dense(512, activation='relu', input_shape=(784,)))  #512개의 노드를 가진 layer 추가. X_train, 즉 학습용 데이터 784개 가지고 있으므로!\n",
        "mlp_model.add(Dense(256, activation='relu'))  # 256개의 노드를 가진 layer 추가.\n",
        "mlp_model.add(Dense(10, activation='softmax')) # 10개의 노드를 가진 layer 추가. (마지막에는 우리가 맞출 레이블이 10개(0~9)이므로 10 작성)\n",
        "mlp_model.summary()"
      ],
      "metadata": {
        "colab": {
          "base_uri": "https://localhost:8080/"
        },
        "id": "liZSbs6MuHL2",
        "outputId": "4b2892e1-0df6-4db0-a3a8-c5394313e52e"
      },
      "execution_count": null,
      "outputs": [
        {
          "output_type": "stream",
          "name": "stdout",
          "text": [
            "Model: \"sequential\"\n",
            "_________________________________________________________________\n",
            " Layer (type)                Output Shape              Param #   \n",
            "=================================================================\n",
            " dense (Dense)               (None, 512)               401920    \n",
            "                                                                 \n",
            " dense_1 (Dense)             (None, 256)               131328    \n",
            "                                                                 \n",
            " dense_2 (Dense)             (None, 10)                2570      \n",
            "                                                                 \n",
            "=================================================================\n",
            "Total params: 535,818\n",
            "Trainable params: 535,818\n",
            "Non-trainable params: 0\n",
            "_________________________________________________________________\n"
          ]
        }
      ]
    },
    {
      "cell_type": "markdown",
      "source": [
        "# 3.2 Build loss function and optimizer (구성한 모델을 컴파일) "
      ],
      "metadata": {
        "id": "RD2ZbQMSoqYk"
      }
    },
    {
      "cell_type": "code",
      "source": [
        "sgd= SGD(lr=0.005) #lr = initial learning rate\n",
        "mlp_model.compile(loss='categorical_crossentropy', optimizer=sgd, metrics=['accuracy'])"
      ],
      "metadata": {
        "colab": {
          "base_uri": "https://localhost:8080/"
        },
        "id": "NryWXtX0v5gB",
        "outputId": "ce3c9704-b926-44f4-85cc-6c203c4d7cf2"
      },
      "execution_count": null,
      "outputs": [
        {
          "output_type": "stream",
          "name": "stderr",
          "text": [
            "/usr/local/lib/python3.7/dist-packages/keras/optimizer_v2/gradient_descent.py:102: UserWarning: The `lr` argument is deprecated, use `learning_rate` instead.\n",
            "  super(SGD, self).__init__(name, **kwargs)\n"
          ]
        }
      ]
    },
    {
      "cell_type": "markdown",
      "source": [
        "# Model Checkpoint\n",
        "\n",
        "- `모델 구성`과 `컴파일`까지 마치면 모델 구축이 모두 완료된 것이고, 다음 단계인 학습으로 넘어가면 된다.\n",
        "\n",
        "\n",
        "- 학습 하기 전: 학습 하기에 앞서서, colab 사용시 모델 학습 중 끊어질 경우 학습된 모델의 weight 손실 가능성이 존재하기 때문에 모델 학습 시에 checkpoint 설정이 필요하다. 지금 이 checkpoint 를 설정해줄 것이다.\n",
        "\n",
        "  - 모델의 validation 값이 best 일때마다 모델 weight 저장\n",
        "  - Memory oveflow 나 crash가 나더라도 다시 weight를 불러와서 학습 진행"
      ],
      "metadata": {
        "id": "LTjyRglXwoz1"
      }
    },
    {
      "cell_type": "code",
      "source": [
        "from keras.callbacks import ModelCheckpoint\n",
        "\n",
        "EPOCH = 100  #학습하는 횟수\n",
        "BATCH_SIZE = 256  #한번에 GPU 에 올라가는 데이터의 개수 (GPU 는 병렬연산이 가능하기 때문에 한번에 쫙 다 뿌리고 나중에 loss 를 계산해서 모델이 갱신되는 것)\n",
        "\n",
        "filename = '/content/drive/MyDrive/Colab Notebooks/checkpoint-epoch-{}-batch-{}-trial-001.h5'.format(EPOCH, BATCH_SIZE)  #이러한 file 을 나중에 만들어주세요\n",
        "checkpoint = ModelCheckpoint(filename,              # file명을지정합니다\n",
        "                              monitor='val_loss',   # val_loss값이개선되었을때호출됩니다\n",
        "                              verbose=1,            # 로그를출력합니다\n",
        "                              save_best_only=True,  # 가장best 값만저장합니다\n",
        "                              mode='auto'           # auto는알아서best를찾습니다. min/max\n",
        ")"
      ],
      "metadata": {
        "id": "Euf-uIxTw_m2"
      },
      "execution_count": null,
      "outputs": []
    },
    {
      "cell_type": "markdown",
      "source": [
        "# 4. Training and Evaluation\n",
        "\n",
        "Task: Train a MLP model and evaluate performance per a epoch"
      ],
      "metadata": {
        "id": "pVKJGmtid_OS"
      }
    },
    {
      "cell_type": "code",
      "source": [
        "model_history= mlp_model.fit(X_train_norm, Y_train, epochs=EPOCH, batch_size=BATCH_SIZE, verbose=2, validation_data=(X_test_norm, Y_test), shuffle=True, callbacks=[checkpoint])\n",
        "#1 epoch: The moment when the entire training data is used exactly once\n",
        "#Verbose: Verbose mode(0: silent, 1: progress bar, 2: one line per epoch)\n",
        "#Shuffle: Expresses whether to shuffle the training data before each epoch"
      ],
      "metadata": {
        "colab": {
          "base_uri": "https://localhost:8080/"
        },
        "id": "WvabtBJLeWh-",
        "outputId": "2f0d54da-7fea-4e1f-8275-a3bae6e29c31"
      },
      "execution_count": null,
      "outputs": [
        {
          "output_type": "stream",
          "name": "stdout",
          "text": [
            "Epoch 1/100\n",
            "\n",
            "Epoch 1: val_loss improved from 0.11851 to 0.11809, saving model to /content/drive/MyDrive/Colab Notebooks/checkpoint-epoch-100-batch-256-trial-001.h5\n",
            "165/165 - 1s - loss: 0.0791 - accuracy: 0.9787 - val_loss: 0.1181 - val_accuracy: 0.9665 - 1s/epoch - 6ms/step\n",
            "Epoch 2/100\n",
            "\n",
            "Epoch 2: val_loss did not improve from 0.11809\n",
            "165/165 - 1s - loss: 0.0787 - accuracy: 0.9789 - val_loss: 0.1184 - val_accuracy: 0.9663 - 626ms/epoch - 4ms/step\n",
            "Epoch 3/100\n",
            "\n",
            "Epoch 3: val_loss improved from 0.11809 to 0.11762, saving model to /content/drive/MyDrive/Colab Notebooks/checkpoint-epoch-100-batch-256-trial-001.h5\n",
            "165/165 - 1s - loss: 0.0783 - accuracy: 0.9789 - val_loss: 0.1176 - val_accuracy: 0.9664 - 760ms/epoch - 5ms/step\n",
            "Epoch 4/100\n",
            "\n",
            "Epoch 4: val_loss improved from 0.11762 to 0.11745, saving model to /content/drive/MyDrive/Colab Notebooks/checkpoint-epoch-100-batch-256-trial-001.h5\n",
            "165/165 - 1s - loss: 0.0779 - accuracy: 0.9792 - val_loss: 0.1175 - val_accuracy: 0.9664 - 785ms/epoch - 5ms/step\n",
            "Epoch 5/100\n",
            "\n",
            "Epoch 5: val_loss did not improve from 0.11745\n",
            "165/165 - 1s - loss: 0.0776 - accuracy: 0.9790 - val_loss: 0.1176 - val_accuracy: 0.9664 - 616ms/epoch - 4ms/step\n",
            "Epoch 6/100\n",
            "\n",
            "Epoch 6: val_loss improved from 0.11745 to 0.11714, saving model to /content/drive/MyDrive/Colab Notebooks/checkpoint-epoch-100-batch-256-trial-001.h5\n",
            "165/165 - 1s - loss: 0.0772 - accuracy: 0.9792 - val_loss: 0.1171 - val_accuracy: 0.9669 - 762ms/epoch - 5ms/step\n",
            "Epoch 7/100\n",
            "\n",
            "Epoch 7: val_loss did not improve from 0.11714\n",
            "165/165 - 1s - loss: 0.0767 - accuracy: 0.9792 - val_loss: 0.1176 - val_accuracy: 0.9659 - 630ms/epoch - 4ms/step\n",
            "Epoch 8/100\n",
            "\n",
            "Epoch 8: val_loss improved from 0.11714 to 0.11669, saving model to /content/drive/MyDrive/Colab Notebooks/checkpoint-epoch-100-batch-256-trial-001.h5\n",
            "165/165 - 1s - loss: 0.0764 - accuracy: 0.9793 - val_loss: 0.1167 - val_accuracy: 0.9663 - 633ms/epoch - 4ms/step\n",
            "Epoch 9/100\n",
            "\n",
            "Epoch 9: val_loss improved from 0.11669 to 0.11613, saving model to /content/drive/MyDrive/Colab Notebooks/checkpoint-epoch-100-batch-256-trial-001.h5\n",
            "165/165 - 1s - loss: 0.0761 - accuracy: 0.9794 - val_loss: 0.1161 - val_accuracy: 0.9668 - 638ms/epoch - 4ms/step\n",
            "Epoch 10/100\n",
            "\n",
            "Epoch 10: val_loss did not improve from 0.11613\n",
            "165/165 - 1s - loss: 0.0757 - accuracy: 0.9798 - val_loss: 0.1164 - val_accuracy: 0.9666 - 776ms/epoch - 5ms/step\n",
            "Epoch 11/100\n",
            "\n",
            "Epoch 11: val_loss improved from 0.11613 to 0.11549, saving model to /content/drive/MyDrive/Colab Notebooks/checkpoint-epoch-100-batch-256-trial-001.h5\n",
            "165/165 - 1s - loss: 0.0753 - accuracy: 0.9797 - val_loss: 0.1155 - val_accuracy: 0.9673 - 642ms/epoch - 4ms/step\n",
            "Epoch 12/100\n",
            "\n",
            "Epoch 12: val_loss improved from 0.11549 to 0.11540, saving model to /content/drive/MyDrive/Colab Notebooks/checkpoint-epoch-100-batch-256-trial-001.h5\n",
            "165/165 - 1s - loss: 0.0751 - accuracy: 0.9800 - val_loss: 0.1154 - val_accuracy: 0.9672 - 637ms/epoch - 4ms/step\n",
            "Epoch 13/100\n",
            "\n",
            "Epoch 13: val_loss improved from 0.11540 to 0.11531, saving model to /content/drive/MyDrive/Colab Notebooks/checkpoint-epoch-100-batch-256-trial-001.h5\n",
            "165/165 - 1s - loss: 0.0746 - accuracy: 0.9798 - val_loss: 0.1153 - val_accuracy: 0.9672 - 798ms/epoch - 5ms/step\n",
            "Epoch 14/100\n",
            "\n",
            "Epoch 14: val_loss improved from 0.11531 to 0.11501, saving model to /content/drive/MyDrive/Colab Notebooks/checkpoint-epoch-100-batch-256-trial-001.h5\n",
            "165/165 - 1s - loss: 0.0743 - accuracy: 0.9800 - val_loss: 0.1150 - val_accuracy: 0.9672 - 778ms/epoch - 5ms/step\n",
            "Epoch 15/100\n",
            "\n",
            "Epoch 15: val_loss improved from 0.11501 to 0.11473, saving model to /content/drive/MyDrive/Colab Notebooks/checkpoint-epoch-100-batch-256-trial-001.h5\n",
            "165/165 - 1s - loss: 0.0740 - accuracy: 0.9802 - val_loss: 0.1147 - val_accuracy: 0.9673 - 759ms/epoch - 5ms/step\n",
            "Epoch 16/100\n",
            "\n",
            "Epoch 16: val_loss improved from 0.11473 to 0.11465, saving model to /content/drive/MyDrive/Colab Notebooks/checkpoint-epoch-100-batch-256-trial-001.h5\n",
            "165/165 - 1s - loss: 0.0735 - accuracy: 0.9804 - val_loss: 0.1147 - val_accuracy: 0.9678 - 753ms/epoch - 5ms/step\n",
            "Epoch 17/100\n",
            "\n",
            "Epoch 17: val_loss improved from 0.11465 to 0.11402, saving model to /content/drive/MyDrive/Colab Notebooks/checkpoint-epoch-100-batch-256-trial-001.h5\n",
            "165/165 - 1s - loss: 0.0732 - accuracy: 0.9804 - val_loss: 0.1140 - val_accuracy: 0.9678 - 648ms/epoch - 4ms/step\n",
            "Epoch 18/100\n",
            "\n",
            "Epoch 18: val_loss improved from 0.11402 to 0.11375, saving model to /content/drive/MyDrive/Colab Notebooks/checkpoint-epoch-100-batch-256-trial-001.h5\n",
            "165/165 - 1s - loss: 0.0729 - accuracy: 0.9802 - val_loss: 0.1138 - val_accuracy: 0.9679 - 639ms/epoch - 4ms/step\n",
            "Epoch 19/100\n",
            "\n",
            "Epoch 19: val_loss improved from 0.11375 to 0.11350, saving model to /content/drive/MyDrive/Colab Notebooks/checkpoint-epoch-100-batch-256-trial-001.h5\n",
            "165/165 - 1s - loss: 0.0725 - accuracy: 0.9805 - val_loss: 0.1135 - val_accuracy: 0.9683 - 756ms/epoch - 5ms/step\n",
            "Epoch 20/100\n",
            "\n",
            "Epoch 20: val_loss improved from 0.11350 to 0.11327, saving model to /content/drive/MyDrive/Colab Notebooks/checkpoint-epoch-100-batch-256-trial-001.h5\n",
            "165/165 - 1s - loss: 0.0721 - accuracy: 0.9807 - val_loss: 0.1133 - val_accuracy: 0.9679 - 794ms/epoch - 5ms/step\n",
            "Epoch 21/100\n",
            "\n",
            "Epoch 21: val_loss did not improve from 0.11327\n",
            "165/165 - 1s - loss: 0.0719 - accuracy: 0.9806 - val_loss: 0.1140 - val_accuracy: 0.9674 - 627ms/epoch - 4ms/step\n",
            "Epoch 22/100\n",
            "\n",
            "Epoch 22: val_loss did not improve from 0.11327\n",
            "165/165 - 1s - loss: 0.0715 - accuracy: 0.9809 - val_loss: 0.1133 - val_accuracy: 0.9677 - 605ms/epoch - 4ms/step\n",
            "Epoch 23/100\n",
            "\n",
            "Epoch 23: val_loss did not improve from 0.11327\n",
            "165/165 - 1s - loss: 0.0712 - accuracy: 0.9808 - val_loss: 0.1136 - val_accuracy: 0.9670 - 622ms/epoch - 4ms/step\n",
            "Epoch 24/100\n",
            "\n",
            "Epoch 24: val_loss did not improve from 0.11327\n",
            "165/165 - 1s - loss: 0.0708 - accuracy: 0.9809 - val_loss: 0.1133 - val_accuracy: 0.9675 - 614ms/epoch - 4ms/step\n",
            "Epoch 25/100\n",
            "\n",
            "Epoch 25: val_loss improved from 0.11327 to 0.11207, saving model to /content/drive/MyDrive/Colab Notebooks/checkpoint-epoch-100-batch-256-trial-001.h5\n",
            "165/165 - 1s - loss: 0.0706 - accuracy: 0.9810 - val_loss: 0.1121 - val_accuracy: 0.9679 - 780ms/epoch - 5ms/step\n",
            "Epoch 26/100\n",
            "\n",
            "Epoch 26: val_loss did not improve from 0.11207\n",
            "165/165 - 1s - loss: 0.0702 - accuracy: 0.9812 - val_loss: 0.1122 - val_accuracy: 0.9681 - 619ms/epoch - 4ms/step\n",
            "Epoch 27/100\n",
            "\n",
            "Epoch 27: val_loss did not improve from 0.11207\n",
            "165/165 - 1s - loss: 0.0698 - accuracy: 0.9813 - val_loss: 0.1124 - val_accuracy: 0.9675 - 610ms/epoch - 4ms/step\n",
            "Epoch 28/100\n",
            "\n",
            "Epoch 28: val_loss did not improve from 0.11207\n",
            "165/165 - 1s - loss: 0.0695 - accuracy: 0.9815 - val_loss: 0.1128 - val_accuracy: 0.9677 - 729ms/epoch - 4ms/step\n",
            "Epoch 29/100\n",
            "\n",
            "Epoch 29: val_loss improved from 0.11207 to 0.11147, saving model to /content/drive/MyDrive/Colab Notebooks/checkpoint-epoch-100-batch-256-trial-001.h5\n",
            "165/165 - 1s - loss: 0.0693 - accuracy: 0.9814 - val_loss: 0.1115 - val_accuracy: 0.9682 - 650ms/epoch - 4ms/step\n",
            "Epoch 30/100\n",
            "\n",
            "Epoch 30: val_loss improved from 0.11147 to 0.11111, saving model to /content/drive/MyDrive/Colab Notebooks/checkpoint-epoch-100-batch-256-trial-001.h5\n",
            "165/165 - 1s - loss: 0.0688 - accuracy: 0.9816 - val_loss: 0.1111 - val_accuracy: 0.9686 - 749ms/epoch - 5ms/step\n",
            "Epoch 31/100\n",
            "\n",
            "Epoch 31: val_loss improved from 0.11111 to 0.11104, saving model to /content/drive/MyDrive/Colab Notebooks/checkpoint-epoch-100-batch-256-trial-001.h5\n",
            "165/165 - 1s - loss: 0.0685 - accuracy: 0.9818 - val_loss: 0.1110 - val_accuracy: 0.9680 - 765ms/epoch - 5ms/step\n",
            "Epoch 32/100\n",
            "\n",
            "Epoch 32: val_loss did not improve from 0.11104\n",
            "165/165 - 1s - loss: 0.0682 - accuracy: 0.9820 - val_loss: 0.1111 - val_accuracy: 0.9680 - 748ms/epoch - 5ms/step\n",
            "Epoch 33/100\n",
            "\n",
            "Epoch 33: val_loss did not improve from 0.11104\n",
            "165/165 - 1s - loss: 0.0679 - accuracy: 0.9821 - val_loss: 0.1113 - val_accuracy: 0.9682 - 740ms/epoch - 4ms/step\n",
            "Epoch 34/100\n",
            "\n",
            "Epoch 34: val_loss improved from 0.11104 to 0.11022, saving model to /content/drive/MyDrive/Colab Notebooks/checkpoint-epoch-100-batch-256-trial-001.h5\n",
            "165/165 - 1s - loss: 0.0676 - accuracy: 0.9818 - val_loss: 0.1102 - val_accuracy: 0.9681 - 753ms/epoch - 5ms/step\n",
            "Epoch 35/100\n",
            "\n",
            "Epoch 35: val_loss improved from 0.11022 to 0.11007, saving model to /content/drive/MyDrive/Colab Notebooks/checkpoint-epoch-100-batch-256-trial-001.h5\n",
            "165/165 - 1s - loss: 0.0673 - accuracy: 0.9822 - val_loss: 0.1101 - val_accuracy: 0.9684 - 753ms/epoch - 5ms/step\n",
            "Epoch 36/100\n",
            "\n",
            "Epoch 36: val_loss did not improve from 0.11007\n",
            "165/165 - 1s - loss: 0.0670 - accuracy: 0.9822 - val_loss: 0.1111 - val_accuracy: 0.9679 - 617ms/epoch - 4ms/step\n",
            "Epoch 37/100\n",
            "\n",
            "Epoch 37: val_loss improved from 0.11007 to 0.10948, saving model to /content/drive/MyDrive/Colab Notebooks/checkpoint-epoch-100-batch-256-trial-001.h5\n",
            "165/165 - 1s - loss: 0.0667 - accuracy: 0.9821 - val_loss: 0.1095 - val_accuracy: 0.9688 - 649ms/epoch - 4ms/step\n",
            "Epoch 38/100\n",
            "\n",
            "Epoch 38: val_loss did not improve from 0.10948\n",
            "165/165 - 1s - loss: 0.0663 - accuracy: 0.9826 - val_loss: 0.1106 - val_accuracy: 0.9685 - 737ms/epoch - 4ms/step\n",
            "Epoch 39/100\n",
            "\n",
            "Epoch 39: val_loss did not improve from 0.10948\n",
            "165/165 - 1s - loss: 0.0662 - accuracy: 0.9823 - val_loss: 0.1096 - val_accuracy: 0.9693 - 747ms/epoch - 5ms/step\n",
            "Epoch 40/100\n",
            "\n",
            "Epoch 40: val_loss did not improve from 0.10948\n",
            "165/165 - 1s - loss: 0.0658 - accuracy: 0.9826 - val_loss: 0.1102 - val_accuracy: 0.9683 - 757ms/epoch - 5ms/step\n",
            "Epoch 41/100\n",
            "\n",
            "Epoch 41: val_loss improved from 0.10948 to 0.10862, saving model to /content/drive/MyDrive/Colab Notebooks/checkpoint-epoch-100-batch-256-trial-001.h5\n",
            "165/165 - 1s - loss: 0.0655 - accuracy: 0.9828 - val_loss: 0.1086 - val_accuracy: 0.9687 - 641ms/epoch - 4ms/step\n",
            "Epoch 42/100\n",
            "\n",
            "Epoch 42: val_loss improved from 0.10862 to 0.10850, saving model to /content/drive/MyDrive/Colab Notebooks/checkpoint-epoch-100-batch-256-trial-001.h5\n",
            "165/165 - 1s - loss: 0.0651 - accuracy: 0.9828 - val_loss: 0.1085 - val_accuracy: 0.9694 - 647ms/epoch - 4ms/step\n",
            "Epoch 43/100\n",
            "\n",
            "Epoch 43: val_loss improved from 0.10850 to 0.10828, saving model to /content/drive/MyDrive/Colab Notebooks/checkpoint-epoch-100-batch-256-trial-001.h5\n",
            "165/165 - 1s - loss: 0.0649 - accuracy: 0.9827 - val_loss: 0.1083 - val_accuracy: 0.9696 - 661ms/epoch - 4ms/step\n",
            "Epoch 44/100\n",
            "\n",
            "Epoch 44: val_loss did not improve from 0.10828\n",
            "165/165 - 1s - loss: 0.0645 - accuracy: 0.9829 - val_loss: 0.1084 - val_accuracy: 0.9694 - 732ms/epoch - 4ms/step\n",
            "Epoch 45/100\n",
            "\n",
            "Epoch 45: val_loss improved from 0.10828 to 0.10812, saving model to /content/drive/MyDrive/Colab Notebooks/checkpoint-epoch-100-batch-256-trial-001.h5\n",
            "165/165 - 1s - loss: 0.0643 - accuracy: 0.9830 - val_loss: 0.1081 - val_accuracy: 0.9692 - 642ms/epoch - 4ms/step\n",
            "Epoch 46/100\n",
            "\n",
            "Epoch 46: val_loss improved from 0.10812 to 0.10791, saving model to /content/drive/MyDrive/Colab Notebooks/checkpoint-epoch-100-batch-256-trial-001.h5\n",
            "165/165 - 1s - loss: 0.0639 - accuracy: 0.9830 - val_loss: 0.1079 - val_accuracy: 0.9691 - 778ms/epoch - 5ms/step\n",
            "Epoch 47/100\n",
            "\n",
            "Epoch 47: val_loss improved from 0.10791 to 0.10752, saving model to /content/drive/MyDrive/Colab Notebooks/checkpoint-epoch-100-batch-256-trial-001.h5\n",
            "165/165 - 1s - loss: 0.0637 - accuracy: 0.9833 - val_loss: 0.1075 - val_accuracy: 0.9697 - 688ms/epoch - 4ms/step\n",
            "Epoch 48/100\n",
            "\n",
            "Epoch 48: val_loss did not improve from 0.10752\n",
            "165/165 - 1s - loss: 0.0634 - accuracy: 0.9832 - val_loss: 0.1083 - val_accuracy: 0.9683 - 740ms/epoch - 4ms/step\n",
            "Epoch 49/100\n",
            "\n",
            "Epoch 49: val_loss improved from 0.10752 to 0.10736, saving model to /content/drive/MyDrive/Colab Notebooks/checkpoint-epoch-100-batch-256-trial-001.h5\n",
            "165/165 - 1s - loss: 0.0631 - accuracy: 0.9833 - val_loss: 0.1074 - val_accuracy: 0.9694 - 639ms/epoch - 4ms/step\n",
            "Epoch 50/100\n",
            "\n",
            "Epoch 50: val_loss improved from 0.10736 to 0.10703, saving model to /content/drive/MyDrive/Colab Notebooks/checkpoint-epoch-100-batch-256-trial-001.h5\n",
            "165/165 - 1s - loss: 0.0629 - accuracy: 0.9834 - val_loss: 0.1070 - val_accuracy: 0.9694 - 641ms/epoch - 4ms/step\n",
            "Epoch 51/100\n",
            "\n",
            "Epoch 51: val_loss improved from 0.10703 to 0.10670, saving model to /content/drive/MyDrive/Colab Notebooks/checkpoint-epoch-100-batch-256-trial-001.h5\n",
            "165/165 - 1s - loss: 0.0626 - accuracy: 0.9835 - val_loss: 0.1067 - val_accuracy: 0.9696 - 650ms/epoch - 4ms/step\n",
            "Epoch 52/100\n",
            "\n",
            "Epoch 52: val_loss did not improve from 0.10670\n",
            "165/165 - 1s - loss: 0.0622 - accuracy: 0.9835 - val_loss: 0.1069 - val_accuracy: 0.9685 - 629ms/epoch - 4ms/step\n",
            "Epoch 53/100\n",
            "\n",
            "Epoch 53: val_loss improved from 0.10670 to 0.10641, saving model to /content/drive/MyDrive/Colab Notebooks/checkpoint-epoch-100-batch-256-trial-001.h5\n",
            "165/165 - 1s - loss: 0.0620 - accuracy: 0.9837 - val_loss: 0.1064 - val_accuracy: 0.9696 - 758ms/epoch - 5ms/step\n",
            "Epoch 54/100\n",
            "\n",
            "Epoch 54: val_loss improved from 0.10641 to 0.10623, saving model to /content/drive/MyDrive/Colab Notebooks/checkpoint-epoch-100-batch-256-trial-001.h5\n",
            "165/165 - 1s - loss: 0.0617 - accuracy: 0.9837 - val_loss: 0.1062 - val_accuracy: 0.9692 - 635ms/epoch - 4ms/step\n",
            "Epoch 55/100\n",
            "\n",
            "Epoch 55: val_loss improved from 0.10623 to 0.10612, saving model to /content/drive/MyDrive/Colab Notebooks/checkpoint-epoch-100-batch-256-trial-001.h5\n",
            "165/165 - 1s - loss: 0.0614 - accuracy: 0.9839 - val_loss: 0.1061 - val_accuracy: 0.9693 - 659ms/epoch - 4ms/step\n",
            "Epoch 56/100\n",
            "\n",
            "Epoch 56: val_loss improved from 0.10612 to 0.10586, saving model to /content/drive/MyDrive/Colab Notebooks/checkpoint-epoch-100-batch-256-trial-001.h5\n",
            "165/165 - 1s - loss: 0.0612 - accuracy: 0.9841 - val_loss: 0.1059 - val_accuracy: 0.9694 - 768ms/epoch - 5ms/step\n",
            "Epoch 57/100\n",
            "\n",
            "Epoch 57: val_loss improved from 0.10586 to 0.10563, saving model to /content/drive/MyDrive/Colab Notebooks/checkpoint-epoch-100-batch-256-trial-001.h5\n",
            "165/165 - 1s - loss: 0.0609 - accuracy: 0.9841 - val_loss: 0.1056 - val_accuracy: 0.9695 - 647ms/epoch - 4ms/step\n",
            "Epoch 58/100\n",
            "\n",
            "Epoch 58: val_loss did not improve from 0.10563\n",
            "165/165 - 1s - loss: 0.0605 - accuracy: 0.9841 - val_loss: 0.1058 - val_accuracy: 0.9689 - 616ms/epoch - 4ms/step\n",
            "Epoch 59/100\n",
            "\n",
            "Epoch 59: val_loss improved from 0.10563 to 0.10562, saving model to /content/drive/MyDrive/Colab Notebooks/checkpoint-epoch-100-batch-256-trial-001.h5\n",
            "165/165 - 1s - loss: 0.0604 - accuracy: 0.9840 - val_loss: 0.1056 - val_accuracy: 0.9693 - 644ms/epoch - 4ms/step\n",
            "Epoch 60/100\n",
            "\n",
            "Epoch 60: val_loss improved from 0.10562 to 0.10524, saving model to /content/drive/MyDrive/Colab Notebooks/checkpoint-epoch-100-batch-256-trial-001.h5\n",
            "165/165 - 1s - loss: 0.0601 - accuracy: 0.9840 - val_loss: 0.1052 - val_accuracy: 0.9696 - 766ms/epoch - 5ms/step\n",
            "Epoch 61/100\n",
            "\n",
            "Epoch 61: val_loss did not improve from 0.10524\n",
            "165/165 - 1s - loss: 0.0598 - accuracy: 0.9845 - val_loss: 0.1053 - val_accuracy: 0.9691 - 745ms/epoch - 5ms/step\n",
            "Epoch 62/100\n",
            "\n",
            "Epoch 62: val_loss improved from 0.10524 to 0.10487, saving model to /content/drive/MyDrive/Colab Notebooks/checkpoint-epoch-100-batch-256-trial-001.h5\n",
            "165/165 - 1s - loss: 0.0595 - accuracy: 0.9845 - val_loss: 0.1049 - val_accuracy: 0.9697 - 634ms/epoch - 4ms/step\n",
            "Epoch 63/100\n",
            "\n",
            "Epoch 63: val_loss improved from 0.10487 to 0.10477, saving model to /content/drive/MyDrive/Colab Notebooks/checkpoint-epoch-100-batch-256-trial-001.h5\n",
            "165/165 - 1s - loss: 0.0592 - accuracy: 0.9847 - val_loss: 0.1048 - val_accuracy: 0.9699 - 633ms/epoch - 4ms/step\n",
            "Epoch 64/100\n",
            "\n",
            "Epoch 64: val_loss improved from 0.10477 to 0.10475, saving model to /content/drive/MyDrive/Colab Notebooks/checkpoint-epoch-100-batch-256-trial-001.h5\n",
            "165/165 - 1s - loss: 0.0590 - accuracy: 0.9847 - val_loss: 0.1048 - val_accuracy: 0.9697 - 763ms/epoch - 5ms/step\n",
            "Epoch 65/100\n",
            "\n",
            "Epoch 65: val_loss improved from 0.10475 to 0.10461, saving model to /content/drive/MyDrive/Colab Notebooks/checkpoint-epoch-100-batch-256-trial-001.h5\n",
            "165/165 - 1s - loss: 0.0587 - accuracy: 0.9847 - val_loss: 0.1046 - val_accuracy: 0.9696 - 766ms/epoch - 5ms/step\n",
            "Epoch 66/100\n",
            "\n",
            "Epoch 66: val_loss improved from 0.10461 to 0.10415, saving model to /content/drive/MyDrive/Colab Notebooks/checkpoint-epoch-100-batch-256-trial-001.h5\n",
            "165/165 - 1s - loss: 0.0585 - accuracy: 0.9849 - val_loss: 0.1041 - val_accuracy: 0.9698 - 652ms/epoch - 4ms/step\n",
            "Epoch 67/100\n",
            "\n",
            "Epoch 67: val_loss improved from 0.10415 to 0.10410, saving model to /content/drive/MyDrive/Colab Notebooks/checkpoint-epoch-100-batch-256-trial-001.h5\n",
            "165/165 - 1s - loss: 0.0582 - accuracy: 0.9849 - val_loss: 0.1041 - val_accuracy: 0.9694 - 762ms/epoch - 5ms/step\n",
            "Epoch 68/100\n",
            "\n",
            "Epoch 68: val_loss did not improve from 0.10410\n",
            "165/165 - 1s - loss: 0.0579 - accuracy: 0.9850 - val_loss: 0.1053 - val_accuracy: 0.9698 - 629ms/epoch - 4ms/step\n",
            "Epoch 69/100\n",
            "\n",
            "Epoch 69: val_loss improved from 0.10410 to 0.10390, saving model to /content/drive/MyDrive/Colab Notebooks/checkpoint-epoch-100-batch-256-trial-001.h5\n",
            "165/165 - 1s - loss: 0.0578 - accuracy: 0.9852 - val_loss: 0.1039 - val_accuracy: 0.9700 - 676ms/epoch - 4ms/step\n",
            "Epoch 70/100\n",
            "\n",
            "Epoch 70: val_loss improved from 0.10390 to 0.10349, saving model to /content/drive/MyDrive/Colab Notebooks/checkpoint-epoch-100-batch-256-trial-001.h5\n",
            "165/165 - 1s - loss: 0.0574 - accuracy: 0.9854 - val_loss: 0.1035 - val_accuracy: 0.9701 - 638ms/epoch - 4ms/step\n",
            "Epoch 71/100\n",
            "\n",
            "Epoch 71: val_loss did not improve from 0.10349\n",
            "165/165 - 1s - loss: 0.0572 - accuracy: 0.9853 - val_loss: 0.1035 - val_accuracy: 0.9697 - 734ms/epoch - 4ms/step\n",
            "Epoch 72/100\n",
            "\n",
            "Epoch 72: val_loss improved from 0.10349 to 0.10317, saving model to /content/drive/MyDrive/Colab Notebooks/checkpoint-epoch-100-batch-256-trial-001.h5\n",
            "165/165 - 1s - loss: 0.0570 - accuracy: 0.9853 - val_loss: 0.1032 - val_accuracy: 0.9703 - 634ms/epoch - 4ms/step\n",
            "Epoch 73/100\n",
            "\n",
            "Epoch 73: val_loss improved from 0.10317 to 0.10287, saving model to /content/drive/MyDrive/Colab Notebooks/checkpoint-epoch-100-batch-256-trial-001.h5\n",
            "165/165 - 1s - loss: 0.0567 - accuracy: 0.9854 - val_loss: 0.1029 - val_accuracy: 0.9703 - 773ms/epoch - 5ms/step\n",
            "Epoch 74/100\n",
            "\n",
            "Epoch 74: val_loss did not improve from 0.10287\n",
            "165/165 - 1s - loss: 0.0564 - accuracy: 0.9855 - val_loss: 0.1032 - val_accuracy: 0.9701 - 754ms/epoch - 5ms/step\n",
            "Epoch 75/100\n",
            "\n",
            "Epoch 75: val_loss did not improve from 0.10287\n",
            "165/165 - 1s - loss: 0.0562 - accuracy: 0.9855 - val_loss: 0.1029 - val_accuracy: 0.9700 - 638ms/epoch - 4ms/step\n",
            "Epoch 76/100\n",
            "\n",
            "Epoch 76: val_loss improved from 0.10287 to 0.10256, saving model to /content/drive/MyDrive/Colab Notebooks/checkpoint-epoch-100-batch-256-trial-001.h5\n",
            "165/165 - 1s - loss: 0.0560 - accuracy: 0.9857 - val_loss: 0.1026 - val_accuracy: 0.9701 - 765ms/epoch - 5ms/step\n",
            "Epoch 77/100\n",
            "\n",
            "Epoch 77: val_loss did not improve from 0.10256\n",
            "165/165 - 1s - loss: 0.0557 - accuracy: 0.9858 - val_loss: 0.1026 - val_accuracy: 0.9701 - 618ms/epoch - 4ms/step\n",
            "Epoch 78/100\n",
            "\n",
            "Epoch 78: val_loss improved from 0.10256 to 0.10242, saving model to /content/drive/MyDrive/Colab Notebooks/checkpoint-epoch-100-batch-256-trial-001.h5\n",
            "165/165 - 1s - loss: 0.0554 - accuracy: 0.9858 - val_loss: 0.1024 - val_accuracy: 0.9699 - 648ms/epoch - 4ms/step\n",
            "Epoch 79/100\n",
            "\n",
            "Epoch 79: val_loss improved from 0.10242 to 0.10224, saving model to /content/drive/MyDrive/Colab Notebooks/checkpoint-epoch-100-batch-256-trial-001.h5\n",
            "165/165 - 1s - loss: 0.0552 - accuracy: 0.9861 - val_loss: 0.1022 - val_accuracy: 0.9701 - 757ms/epoch - 5ms/step\n",
            "Epoch 80/100\n",
            "\n",
            "Epoch 80: val_loss did not improve from 0.10224\n",
            "165/165 - 1s - loss: 0.0550 - accuracy: 0.9860 - val_loss: 0.1032 - val_accuracy: 0.9699 - 750ms/epoch - 5ms/step\n",
            "Epoch 81/100\n",
            "\n",
            "Epoch 81: val_loss improved from 0.10224 to 0.10181, saving model to /content/drive/MyDrive/Colab Notebooks/checkpoint-epoch-100-batch-256-trial-001.h5\n",
            "165/165 - 1s - loss: 0.0549 - accuracy: 0.9860 - val_loss: 0.1018 - val_accuracy: 0.9702 - 630ms/epoch - 4ms/step\n",
            "Epoch 82/100\n",
            "\n",
            "Epoch 82: val_loss did not improve from 0.10181\n",
            "165/165 - 1s - loss: 0.0545 - accuracy: 0.9861 - val_loss: 0.1019 - val_accuracy: 0.9701 - 607ms/epoch - 4ms/step\n",
            "Epoch 83/100\n",
            "\n",
            "Epoch 83: val_loss improved from 0.10181 to 0.10154, saving model to /content/drive/MyDrive/Colab Notebooks/checkpoint-epoch-100-batch-256-trial-001.h5\n",
            "165/165 - 1s - loss: 0.0543 - accuracy: 0.9862 - val_loss: 0.1015 - val_accuracy: 0.9701 - 640ms/epoch - 4ms/step\n",
            "Epoch 84/100\n",
            "\n",
            "Epoch 84: val_loss did not improve from 0.10154\n",
            "165/165 - 1s - loss: 0.0540 - accuracy: 0.9864 - val_loss: 0.1016 - val_accuracy: 0.9701 - 724ms/epoch - 4ms/step\n",
            "Epoch 85/100\n",
            "\n",
            "Epoch 85: val_loss improved from 0.10154 to 0.10131, saving model to /content/drive/MyDrive/Colab Notebooks/checkpoint-epoch-100-batch-256-trial-001.h5\n",
            "165/165 - 1s - loss: 0.0538 - accuracy: 0.9863 - val_loss: 0.1013 - val_accuracy: 0.9700 - 623ms/epoch - 4ms/step\n",
            "Epoch 86/100\n",
            "\n",
            "Epoch 86: val_loss improved from 0.10131 to 0.10116, saving model to /content/drive/MyDrive/Colab Notebooks/checkpoint-epoch-100-batch-256-trial-001.h5\n",
            "165/165 - 1s - loss: 0.0536 - accuracy: 0.9865 - val_loss: 0.1012 - val_accuracy: 0.9705 - 644ms/epoch - 4ms/step\n",
            "Epoch 87/100\n",
            "\n",
            "Epoch 87: val_loss improved from 0.10116 to 0.10089, saving model to /content/drive/MyDrive/Colab Notebooks/checkpoint-epoch-100-batch-256-trial-001.h5\n",
            "165/165 - 1s - loss: 0.0533 - accuracy: 0.9867 - val_loss: 0.1009 - val_accuracy: 0.9706 - 760ms/epoch - 5ms/step\n",
            "Epoch 88/100\n",
            "\n",
            "Epoch 88: val_loss did not improve from 0.10089\n",
            "165/165 - 1s - loss: 0.0531 - accuracy: 0.9868 - val_loss: 0.1010 - val_accuracy: 0.9701 - 625ms/epoch - 4ms/step\n",
            "Epoch 89/100\n",
            "\n",
            "Epoch 89: val_loss did not improve from 0.10089\n",
            "165/165 - 1s - loss: 0.0529 - accuracy: 0.9867 - val_loss: 0.1009 - val_accuracy: 0.9701 - 743ms/epoch - 5ms/step\n",
            "Epoch 90/100\n",
            "\n",
            "Epoch 90: val_loss improved from 0.10089 to 0.10057, saving model to /content/drive/MyDrive/Colab Notebooks/checkpoint-epoch-100-batch-256-trial-001.h5\n",
            "165/165 - 1s - loss: 0.0527 - accuracy: 0.9867 - val_loss: 0.1006 - val_accuracy: 0.9704 - 664ms/epoch - 4ms/step\n",
            "Epoch 91/100\n",
            "\n",
            "Epoch 91: val_loss improved from 0.10057 to 0.10045, saving model to /content/drive/MyDrive/Colab Notebooks/checkpoint-epoch-100-batch-256-trial-001.h5\n",
            "165/165 - 1s - loss: 0.0524 - accuracy: 0.9868 - val_loss: 0.1004 - val_accuracy: 0.9704 - 633ms/epoch - 4ms/step\n",
            "Epoch 92/100\n",
            "\n",
            "Epoch 92: val_loss improved from 0.10045 to 0.10014, saving model to /content/drive/MyDrive/Colab Notebooks/checkpoint-epoch-100-batch-256-trial-001.h5\n",
            "165/165 - 1s - loss: 0.0522 - accuracy: 0.9870 - val_loss: 0.1001 - val_accuracy: 0.9707 - 776ms/epoch - 5ms/step\n",
            "Epoch 93/100\n",
            "\n",
            "Epoch 93: val_loss did not improve from 0.10014\n",
            "165/165 - 1s - loss: 0.0520 - accuracy: 0.9870 - val_loss: 0.1002 - val_accuracy: 0.9708 - 730ms/epoch - 4ms/step\n",
            "Epoch 94/100\n",
            "\n",
            "Epoch 94: val_loss improved from 0.10014 to 0.09992, saving model to /content/drive/MyDrive/Colab Notebooks/checkpoint-epoch-100-batch-256-trial-001.h5\n",
            "165/165 - 1s - loss: 0.0518 - accuracy: 0.9872 - val_loss: 0.0999 - val_accuracy: 0.9709 - 629ms/epoch - 4ms/step\n",
            "Epoch 95/100\n",
            "\n",
            "Epoch 95: val_loss did not improve from 0.09992\n",
            "165/165 - 1s - loss: 0.0515 - accuracy: 0.9872 - val_loss: 0.1015 - val_accuracy: 0.9709 - 607ms/epoch - 4ms/step\n",
            "Epoch 96/100\n",
            "\n",
            "Epoch 96: val_loss did not improve from 0.09992\n",
            "165/165 - 1s - loss: 0.0514 - accuracy: 0.9875 - val_loss: 0.1002 - val_accuracy: 0.9706 - 607ms/epoch - 4ms/step\n",
            "Epoch 97/100\n",
            "\n",
            "Epoch 97: val_loss improved from 0.09992 to 0.09981, saving model to /content/drive/MyDrive/Colab Notebooks/checkpoint-epoch-100-batch-256-trial-001.h5\n",
            "165/165 - 1s - loss: 0.0511 - accuracy: 0.9873 - val_loss: 0.0998 - val_accuracy: 0.9702 - 638ms/epoch - 4ms/step\n",
            "Epoch 98/100\n",
            "\n",
            "Epoch 98: val_loss improved from 0.09981 to 0.09969, saving model to /content/drive/MyDrive/Colab Notebooks/checkpoint-epoch-100-batch-256-trial-001.h5\n",
            "165/165 - 1s - loss: 0.0508 - accuracy: 0.9875 - val_loss: 0.0997 - val_accuracy: 0.9706 - 645ms/epoch - 4ms/step\n",
            "Epoch 99/100\n",
            "\n",
            "Epoch 99: val_loss improved from 0.09969 to 0.09930, saving model to /content/drive/MyDrive/Colab Notebooks/checkpoint-epoch-100-batch-256-trial-001.h5\n",
            "165/165 - 1s - loss: 0.0507 - accuracy: 0.9875 - val_loss: 0.0993 - val_accuracy: 0.9711 - 654ms/epoch - 4ms/step\n",
            "Epoch 100/100\n",
            "\n",
            "Epoch 100: val_loss did not improve from 0.09930\n",
            "165/165 - 1s - loss: 0.0504 - accuracy: 0.9876 - val_loss: 0.1013 - val_accuracy: 0.9703 - 736ms/epoch - 4ms/step\n"
          ]
        }
      ]
    },
    {
      "cell_type": "code",
      "source": [
        "#Dictionary of training and evaluation history\n",
        "print(model_history.history.keys()) "
      ],
      "metadata": {
        "colab": {
          "base_uri": "https://localhost:8080/"
        },
        "id": "JeGqhUwnf18P",
        "outputId": "997697cf-ec14-47f4-9ebf-307c866e4451"
      },
      "execution_count": null,
      "outputs": [
        {
          "output_type": "stream",
          "name": "stdout",
          "text": [
            "dict_keys(['loss', 'accuracy', 'val_loss', 'val_accuracy'])\n"
          ]
        }
      ]
    },
    {
      "cell_type": "markdown",
      "source": [
        "# 5. Evaluation using Loss Curve\n",
        "\n",
        "- Task: Uses loss curve to evaluate generalization performance of model\n",
        "\n",
        "- Loss curve : A graph of the loss history of each epoch"
      ],
      "metadata": {
        "id": "LnT0_mz5eVyF"
      }
    },
    {
      "cell_type": "code",
      "source": [
        "plt.plot(model_history.history['loss'])\n",
        "plt.plot(model_history.history['val_loss'])\n",
        "plt.title('model loss')\n",
        "plt.ylabel('loss')\n",
        "plt.xlabel('epoch')\n",
        "plt.legend(['train', 'test'], loc='right')\n",
        "plt.show()\n",
        "#Analysis of result: train 데이터의 loss에 비해 test 데이터의 loss 가 낮아지지는 않으므로 간극이 발생했다. 이것을 overfitting 이라고 한다. 만약 test 와 training 의 loss curve 가 비슷했다면, Good generalization performance \n",
        "\n",
        "#모델이 에포크가 증가하면서 loss 가 감소한 것을 알 수 있다.\n",
        "#test 데이터에서 삐죽삐죽 튀어나온 부분은 overfitting 되었다는 것이다. 심할 경우 에포크를 늘리거나, 모델을 수정해야 한다."
      ],
      "metadata": {
        "colab": {
          "base_uri": "https://localhost:8080/",
          "height": 295
        },
        "id": "F-fn6sORgWa3",
        "outputId": "b8bbaf20-687e-4aee-e647-b777ae3d9bb5"
      },
      "execution_count": null,
      "outputs": [
        {
          "output_type": "display_data",
          "data": {
            "text/plain": [
              "<Figure size 432x288 with 1 Axes>"
            ],
            "image/png": "[encoded data removed]"
          },
          "metadata": {
            "needs_background": "light"
          }
        }
      ]
    },
    {
      "cell_type": "markdown",
      "source": [
        "# 5. Evaluation using Accuracy Curve\n",
        "- Task: Uses accuracy curve to evaluate generalization performance of model\n",
        "\n",
        "- Accuracy curve : A graph of the accuracy history of each epoch"
      ],
      "metadata": {
        "id": "VgKFdwgnhByM"
      }
    },
    {
      "cell_type": "code",
      "source": [
        "plt.plot(model_history.history['accuracy'])\n",
        "plt.plot(model_history.history['val_accuracy'])\n",
        "plt.title('model accuracy')\n",
        "plt.ylabel('accuracy')\n",
        "plt.xlabel('epoch')\n",
        "plt.legend(['train', 'test'], loc='right')\n",
        "plt.show()\n",
        "\n",
        "#Analysis of result: train 데이터의 accuracy에 비해 test 데이터의 accuracy 가 높아지지는 않으므로 간극이 발생했다. 이것을 overfitting 이라고 한다. 만약 test 와 training 의 accuracy curve 가 비슷했다면, Good generalization performance \n",
        "\n",
        "#모델이 에포크가 증가하면서 accuracy 가 증가한 것을 알 수 있다.\n",
        "#test 데이터에서 삐죽삐죽 튀어나온 부분은 overfitting 되었다는 것이다. 심할 경우 에포크를 늘리거나, 모델을 수정해야 한다."
      ],
      "metadata": {
        "colab": {
          "base_uri": "https://localhost:8080/",
          "height": 295
        },
        "id": "O8CatbEPhMxq",
        "outputId": "36d44a96-5b84-45de-8ccc-5e42dd95a182"
      },
      "execution_count": null,
      "outputs": [
        {
          "output_type": "display_data",
          "data": {
            "text/plain": [
              "<Figure size 432x288 with 1 Axes>"
            ],
            "image/png": "[encoded data removed]"
          },
          "metadata": {
            "needs_background": "light"
          }
        }
      ]
    },
    {
      "cell_type": "markdown",
      "source": [
        "#6. Analysis using Confusion Matrix\n",
        "\n",
        "- Task: Use a confusion matrix to analyze the error tendency of the model(to evaluate the accuracy of a classification)\n",
        "\n",
        "- Confusion matrix\n",
        "  - A specific table layout that allows visualization of the performance of an algorithm\n",
        "  - Used to describe the performance of a classification model\n",
        "  - 대각행렬로 구성되어 있는 것이 많으면 많을수록 좋은 모델이다."
      ],
      "metadata": {
        "id": "62RiL-LJiaAi"
      }
    },
    {
      "cell_type": "code",
      "source": [
        "from sklearn.metrics import confusion_matrix\n",
        "import itertools"
      ],
      "metadata": {
        "id": "9xXiuHUajICO"
      },
      "execution_count": null,
      "outputs": []
    },
    {
      "cell_type": "code",
      "source": [
        "def plot_confusion_matrix(model_input, feature, label, class_info):\n",
        "    pred = model_input.predict(feature) #model.predict(X_test): Returns the predicted value of the X_test data\n",
        "    cnf_matrix= confusion_matrix(np.argmax(label, axis=1), np.argmax(pred, axis=1))\n",
        "    plt.figure()\n",
        "    plt.imshow(cnf_matrix, interpolation='nearest', cmap=plt.cm.Blues)\n",
        "\n",
        "    #Additions of information for visualization\n",
        "    tick_marks= np.arange(len(class_info))\n",
        "    plt.xticks(tick_marks, class_info, rotation=45)\n",
        "    plt.yticks(tick_marks, class_info)\n",
        "    thresh = cnf_matrix.max() / 2.\n",
        "    for i, j in itertools.product(range(cnf_matrix.shape[0]), range(cnf_matrix.shape[1])):\n",
        "        plt.text(j, i, cnf_matrix[i, j], horizontalalignment=\"center\", color=\"white\" if cnf_matrix[i, j] > thresh else \"black\")\n",
        "        plt.tight_layout()\n",
        "        plt.ylabel('True label')\n",
        "        plt.xlabel('Predicted label')\n",
        "    plt.show()\n"
      ],
      "metadata": {
        "id": "gts9NRlOjN85"
      },
      "execution_count": null,
      "outputs": []
    },
    {
      "cell_type": "code",
      "source": [
        "label = ['0','1','2','3','4','5','6','7','8','9']\n",
        "plot_confusion_matrix(mlp_model, X_test_norm, Y_test, class_info=label)\n",
        "#대각행렬로 구성되어 있는 것이 많으면 많을수록 좋은 모델이다.\n",
        "#실제 레이블은 0인데, 0으로 예측한 것은 1706개\n",
        "#실제 레이블은 0인데, 1으로 예측한 것은 0개\n",
        "#실제 레이블은 0인데, 2으로 예측한 것은 3개\n",
        "#실제 레이블은 1인데, 1으로 예측한 것은 2001개"
      ],
      "metadata": {
        "colab": {
          "base_uri": "https://localhost:8080/",
          "height": 297
        },
        "id": "xex1IN9rjQNu",
        "outputId": "563e5132-522f-47b0-9cb7-df6a0474dae8"
      },
      "execution_count": null,
      "outputs": [
        {
          "output_type": "display_data",
          "data": {
            "text/plain": [
              "<Figure size 432x288 with 1 Axes>"
            ],
            "image/png": "[encoded data removed]"
          },
          "metadata": {
            "needs_background": "light"
          }
        }
      ]
    },
    {
      "cell_type": "markdown",
      "source": [
        "- The data for ‘9’ were most confused with the data for ‘4’\n",
        "- What are some improvements to distinguish between ‘3’ and ‘5’?\n",
        "  - Train for more epochs\n",
        "  - Deeper network\n",
        "  - Change loss function, activation, or\n",
        "  optimizer\n",
        "  - etc."
      ],
      "metadata": {
        "id": "y6Q4mnkqlGV4"
      }
    }
  ]
}
