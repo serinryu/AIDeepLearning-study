{
  "nbformat": 4,
  "nbformat_minor": 0,
  "metadata": {
    "colab": {
      "name": "RNN-based-Movie-Sentiment-Classification.ipynb",
      "provenance": [],
      "collapsed_sections": [],
      "mount_file_id": "1YE9ZDaBFK0GQYzaf5hHQGdORLW1-eTal",
      "authorship_tag": "ABX9TyN+tyLvqGdVgfodCrUozBsw",
      "include_colab_link": true
    },
    "kernelspec": {
      "name": "python3",
      "display_name": "Python 3"
    },
    "language_info": {
      "name": "python"
    }
  },
  "cells": [
    {
      "cell_type": "markdown",
      "metadata": {
        "id": "view-in-github",
        "colab_type": "text"
      },
      "source": [
        "<a href=\"https://colab.research.google.com/github/serinryu/AIDeepLearning-study/blob/main/RNN_based_Movie_Sentiment_Classification/RNN_based_Movie_Sentiment_Classification.ipynb\" target=\"_parent\"><img src=\"https://colab.research.google.com/assets/colab-badge.svg\" alt=\"Open In Colab\"/></a>"
      ]
    },
    {
      "cell_type": "markdown",
      "source": [
        "# **RNN 신경망 : 영화평 Sentiment 분석(Text Sentiment analysis)** \n",
        ": 순환신경망\n",
        "\n",
        ": 텍스트 및 시계열 학습에 주로 사용되는 LSTM을 불러오고, 기초적인 모델 튜닝 방법과 워드 임베딩을 사용하여 텍스트를 학습하는 방법을 알아봅니다.\n",
        "\n",
        "---\n",
        "\n",
        "> ### ✏️ problem definition\n",
        "- Sentiment analysis\n",
        "  - Movie reviews provided by IMDB\n",
        "  - Analysis of sentiment by two classification (binary classification)\n",
        "- [`Movie review sentences`] -> [`Classification model`] -> [`POSITIVE` / `NEGATIVE`]\n",
        "\n",
        "\n",
        "> ### ✏️ solution design\n",
        "1. input\n",
        "  - IMDB n sentences\n",
        "2. pre-processing\n",
        "  - Tokenization Embedding\n",
        "3. Sequence modeling\n",
        "  - LSTM layer (# layer : 1)\n",
        "  - fully connected layer (# layer : 1)\n",
        "  - Softmax activation\n",
        "  - loss function: Cross entropy \n",
        "4. output\n",
        "  - predicted label size : 2\n",
        "5. evaluation\n",
        "  - accuracy graph\n",
        "  - loss graph\n",
        "6. analysis\n",
        "  - Confusion matrix\n"
      ],
      "metadata": {
        "id": "vkKyIzdkI1m4"
      }
    },
    {
      "cell_type": "markdown",
      "source": [
        "# 1. Load Sentence Data"
      ],
      "metadata": {
        "id": "OokDKUqjjkSi"
      }
    },
    {
      "cell_type": "code",
      "execution_count": null,
      "metadata": {
        "id": "ZYlDyx7ziOfF"
      },
      "outputs": [],
      "source": [
        "import pandas as pd\n",
        "import numpy as np"
      ]
    },
    {
      "cell_type": "code",
      "source": [
        "data = pd.read_csv ('/content/drive/MyDrive/Colab Notebooks/인공지능(2022-1)/data/IMDB.csv', engine='python')\n",
        "data = data[['review','sentiment']]\n",
        "print(data.shape)"
      ],
      "metadata": {
        "id": "RRdP9-Z1in9n",
        "colab": {
          "base_uri": "https://localhost:8080/"
        },
        "outputId": "627d1c14-8307-4311-9563-4034317a4199"
      },
      "execution_count": null,
      "outputs": [
        {
          "output_type": "stream",
          "name": "stdout",
          "text": [
            "(50000, 2)\n"
          ]
        }
      ]
    },
    {
      "cell_type": "markdown",
      "source": [
        "#2. Pre-processing"
      ],
      "metadata": {
        "id": "76KSRJTukgVz"
      }
    },
    {
      "cell_type": "markdown",
      "source": [
        "### 2.1 Sentence Preprocessing\n",
        "Task: Preprocess the sentences as simple one"
      ],
      "metadata": {
        "id": "6ITwb0OLphMs"
      }
    },
    {
      "cell_type": "code",
      "source": [
        "#Remove all special characters. Remain only alphabet and digits"
      ],
      "metadata": {
        "id": "goYkQSR0kpvz"
      },
      "execution_count": null,
      "outputs": []
    },
    {
      "cell_type": "code",
      "source": [
        "import re\n",
        "data['review'] = data['review'].apply((lambda x: re.sub (r'[^A-Za-z0-9\\s]','',x)))\n",
        "# re.sub (re, replace,target) : Replace target string if the character matches with regular expression\n",
        "# Target regular expression [^A-Za-z0-9\\s] : All characters except English alphabets, digits and whitespace character"
      ],
      "metadata": {
        "id": "zRcXd5GZl4sY"
      },
      "execution_count": null,
      "outputs": []
    },
    {
      "cell_type": "markdown",
      "source": [
        "### 2.2 Sentence Vectorization\n",
        "\n",
        "- Task: Transform a sentence as a vector which is numerical form (One-hot encoding)"
      ],
      "metadata": {
        "id": "InNewzXFNB8v"
      }
    },
    {
      "cell_type": "code",
      "source": [
        "#Declare the tokenizer with 2000 words, and fit the tokenizer to text, changing characters to lowercase\n",
        "from tensorflow.keras.preprocessing.text import Tokenizer\n",
        "max_features= 2000\n",
        "tokenizer = Tokenizer(num_words=max_features, split=' ', lower=True, oov_token=True)\n",
        "tokenizer.fit_on_texts(data['review'].values)"
      ],
      "metadata": {
        "id": "kJyTyN_aNPwE"
      },
      "execution_count": null,
      "outputs": []
    },
    {
      "cell_type": "code",
      "source": [
        "#Get sequence from tokenizer and pad the sequence as same length\n",
        "from tensorflow.keras.preprocessing.sequence import pad_sequences\n",
        "max_sentence_len= 40\n",
        "X = tokenizer.texts_to_sequences(data['review'].values)\n",
        "X = pad_sequences(X, maxlen=max_sentence_len)\n",
        "print('Data_shape:', X.shape)"
      ],
      "metadata": {
        "colab": {
          "base_uri": "https://localhost:8080/"
        },
        "id": "4YYr1qTBUe-x",
        "outputId": "56f80fd7-d58b-45ce-dada-402da54c8e64"
      },
      "execution_count": null,
      "outputs": [
        {
          "output_type": "stream",
          "name": "stdout",
          "text": [
            "Data_shape: (50000, 40)\n"
          ]
        }
      ]
    },
    {
      "cell_type": "markdown",
      "source": [
        "### 2.3 Sentence Embedding\n",
        "- Task: Transform the one hot encoded vector as the one having semantic\n",
        "relation"
      ],
      "metadata": {
        "id": "gBQJykn7UqNp"
      }
    },
    {
      "cell_type": "code",
      "source": [
        "#Declare the model as a sequence of layers\n",
        "from tensorflow.keras.models import Sequential\n",
        "model = Sequential()"
      ],
      "metadata": {
        "id": "UzDSIoV6UuEj"
      },
      "execution_count": null,
      "outputs": []
    },
    {
      "cell_type": "code",
      "source": [
        "#Add embedding layer to the model in the top\n",
        "from tensorflow.keras.layers import Embedding\n",
        "embed_dim = 256\n",
        "model.add(Embedding(max_features , embed_dim , input_length = X.shape[1]))"
      ],
      "metadata": {
        "id": "ukdRVCfDUySb"
      },
      "execution_count": null,
      "outputs": []
    },
    {
      "cell_type": "markdown",
      "source": [
        "#3. Sequence Modeling \n",
        "\n",
        "- Task: Task: Add LSTM layer and fully connected layer to the model\n",
        "\n",
        "\n"
      ],
      "metadata": {
        "id": "rlQqpP3RtLOA"
      }
    },
    {
      "cell_type": "markdown",
      "source": [
        "### 3.1 Add LSTM layer with tanh activation and the number of unit as 128\n",
        "- Activation: relu\n",
        "- Dropout rate: 0.4"
      ],
      "metadata": {
        "id": "wtimcN5yolek"
      }
    },
    {
      "cell_type": "code",
      "source": [
        "from tensorflow.keras.layers import LSTM\n",
        "lstm_unit = 128\n",
        "model.add(LSTM(lstm_unit, activation='relu', dropout=.4))"
      ],
      "metadata": {
        "id": "liZSbs6MuHL2"
      },
      "execution_count": null,
      "outputs": []
    },
    {
      "cell_type": "markdown",
      "source": [
        "### 3.2 Add fully connected layer (=dense layer) in bottom of model sequence\n",
        "\n",
        "- Output size is 2 since the problem is two class classification\n",
        "- Softmax activation makes the final output in classification task\n",
        "- Output value means which class the model choose about the input"
      ],
      "metadata": {
        "id": "253S50oBOBI3"
      }
    },
    {
      "cell_type": "code",
      "source": [
        "from tensorflow.keras.layers import Dense\n",
        "model.add (Dense(2,activation='softmax'))\n",
        "model.summary()"
      ],
      "metadata": {
        "id": "LcfzVA-ROAYR",
        "colab": {
          "base_uri": "https://localhost:8080/"
        },
        "outputId": "9232ff03-f981-4c02-ced0-a4af40333847"
      },
      "execution_count": null,
      "outputs": [
        {
          "output_type": "stream",
          "name": "stdout",
          "text": [
            "Model: \"sequential\"\n",
            "_________________________________________________________________\n",
            " Layer (type)                Output Shape              Param #   \n",
            "=================================================================\n",
            " embedding (Embedding)       (None, 40, 256)           512000    \n",
            "                                                                 \n",
            " lstm (LSTM)                 (None, 128)               197120    \n",
            "                                                                 \n",
            " dense (Dense)               (None, 2)                 258       \n",
            "                                                                 \n",
            "=================================================================\n",
            "Total params: 709,378\n",
            "Trainable params: 709,378\n",
            "Non-trainable params: 0\n",
            "_________________________________________________________________\n"
          ]
        }
      ]
    },
    {
      "cell_type": "markdown",
      "source": [
        "### 3.3 Model Summary\n",
        "- Purpose: Print entire model to see the model structure"
      ],
      "metadata": {
        "id": "Ep5unG72VlKe"
      }
    },
    {
      "cell_type": "code",
      "source": [
        "from keras.layers import SpatialDropout1D\n",
        "embed_dim = 256\n",
        "lstm_unit = 128\n",
        "model = Sequential()\n",
        "model.add(Embedding(max_features , embed_dim,input_length = X.shape[1]))\n",
        "model.add(SpatialDropout1D(0.4))\n",
        "model.add(LSTM(lstm_unit , dropout=0.2, recurrent_dropout =0.2))\n",
        "model.add(Dense(2, activation='softmax'))\n",
        "model.summary()"
      ],
      "metadata": {
        "colab": {
          "base_uri": "https://localhost:8080/"
        },
        "id": "7mnA2tR-VtjN",
        "outputId": "0809237e-aeb8-4d79-a154-cf9cf712b40b"
      },
      "execution_count": null,
      "outputs": [
        {
          "output_type": "stream",
          "name": "stdout",
          "text": [
            "Model: \"sequential_1\"\n",
            "_________________________________________________________________\n",
            " Layer (type)                Output Shape              Param #   \n",
            "=================================================================\n",
            " embedding_1 (Embedding)     (None, 40, 256)           512000    \n",
            "                                                                 \n",
            " spatial_dropout1d (SpatialD  (None, 40, 256)          0         \n",
            " ropout1D)                                                       \n",
            "                                                                 \n",
            " lstm_1 (LSTM)               (None, 128)               197120    \n",
            "                                                                 \n",
            " dense_1 (Dense)             (None, 2)                 258       \n",
            "                                                                 \n",
            "=================================================================\n",
            "Total params: 709,378\n",
            "Trainable params: 709,378\n",
            "Non-trainable params: 0\n",
            "_________________________________________________________________\n"
          ]
        }
      ]
    },
    {
      "cell_type": "markdown",
      "source": [
        "### 3.4 Training Model\n",
        "- Task: Define training settings and run the training process"
      ],
      "metadata": {
        "id": "6GV5nCf3WDHd"
      }
    },
    {
      "cell_type": "code",
      "source": [
        "#Split the data to train data and test data as 50 to 50\n",
        "\n",
        "from sklearn.model_selection import train_test_split\n",
        "Y = pd.get_dummies(data['sentiment']).values\n",
        "X_train, X_test, Y_train, Y_test= train_test_split(X,Y, test_size= 0.50, random_state= 50)"
      ],
      "metadata": {
        "id": "JTcyDBs2WILn"
      },
      "execution_count": null,
      "outputs": []
    },
    {
      "cell_type": "code",
      "source": [
        "#Compile the model with defining loss function and optimizer\n",
        "from tensorflow.keras.optimizers import Adam\n",
        "opt = Adam(lr=.00003)\n",
        "model.compile(loss = 'categorical_crossentropy', optimizer=opt, metrics = ['accuracy'])\n",
        "history = model.fit(X_train, Y_train, epochs = 10, batch_size=64, validation_split=0.1, verbose = 1, shuffle=True)"
      ],
      "metadata": {
        "colab": {
          "base_uri": "https://localhost:8080/"
        },
        "id": "VRjOt8YtWTqK",
        "outputId": "e27e338a-4780-4bb7-e5ec-a851bf1abdcf"
      },
      "execution_count": null,
      "outputs": [
        {
          "metadata": {
            "tags": null
          },
          "name": "stdout",
          "output_type": "stream",
          "text": [
            "Epoch 1/10\n"
          ]
        },
        {
          "metadata": {
            "tags": null
          },
          "name": "stderr",
          "output_type": "stream",
          "text": [
            "/usr/local/lib/python3.7/dist-packages/keras/optimizer_v2/adam.py:105: UserWarning: The `lr` argument is deprecated, use `learning_rate` instead.\n",
            "  super(Adam, self).__init__(name, **kwargs)\n"
          ]
        },
        {
          "output_type": "stream",
          "name": "stdout",
          "text": [
            "352/352 [==============================] - 76s 208ms/step - loss: 0.6907 - accuracy: 0.5521 - val_loss: 0.6875 - val_accuracy: 0.5956\n",
            "Epoch 2/10\n",
            "352/352 [==============================] - 74s 210ms/step - loss: 0.6441 - accuracy: 0.6473 - val_loss: 0.5874 - val_accuracy: 0.7040\n",
            "Epoch 3/10\n",
            "352/352 [==============================] - 72s 205ms/step - loss: 0.5619 - accuracy: 0.7115 - val_loss: 0.5400 - val_accuracy: 0.7352\n",
            "Epoch 4/10\n",
            "352/352 [==============================] - 73s 208ms/step - loss: 0.5214 - accuracy: 0.7413 - val_loss: 0.5138 - val_accuracy: 0.7580\n",
            "Epoch 5/10\n",
            "352/352 [==============================] - 73s 207ms/step - loss: 0.4967 - accuracy: 0.7559 - val_loss: 0.4975 - val_accuracy: 0.7680\n",
            "Epoch 6/10\n",
            "352/352 [==============================] - 73s 207ms/step - loss: 0.4806 - accuracy: 0.7655 - val_loss: 0.4868 - val_accuracy: 0.7696\n",
            "Epoch 7/10\n",
            "352/352 [==============================] - 72s 206ms/step - loss: 0.4653 - accuracy: 0.7746 - val_loss: 0.4801 - val_accuracy: 0.7764\n",
            "Epoch 8/10\n",
            "352/352 [==============================] - 72s 205ms/step - loss: 0.4569 - accuracy: 0.7848 - val_loss: 0.4729 - val_accuracy: 0.7740\n",
            "Epoch 9/10\n",
            "352/352 [==============================] - 72s 205ms/step - loss: 0.4489 - accuracy: 0.7859 - val_loss: 0.4688 - val_accuracy: 0.7772\n",
            "Epoch 10/10\n",
            "352/352 [==============================] - 72s 204ms/step - loss: 0.4401 - accuracy: 0.7931 - val_loss: 0.4730 - val_accuracy: 0.7764\n"
          ]
        }
      ]
    },
    {
      "cell_type": "markdown",
      "source": [
        "# 4. Performance Analysis\n",
        "- Task: Show the trails of performances changed by the training epochs"
      ],
      "metadata": {
        "id": "FKtRzNIlOhg1"
      }
    },
    {
      "cell_type": "code",
      "source": [
        "import matplotlib.pyplot as plt\n",
        "%matplotlib inline\n",
        "plt.plot(history.history['loss'])\n",
        "plt.plot(history.history['val_loss'])\n",
        "plt.title('Categorical crossentropy')\n",
        "plt.ylabel('entropy')\n",
        "plt.xlabel('epochs')\n",
        "plt.legend(['train','test'], loc='upper right')\n",
        "plt.show()\n",
        "plt.plot(history.history['accuracy'])\n",
        "plt.plot(history.history['val_accuracy'])\n",
        "plt.title('Accuracy')\n",
        "plt.ylabel('acc')\n",
        "plt.xlabel('epochs')\n",
        "plt.legend(['train','test'], loc='upper right')\n",
        "plt.show()"
      ],
      "metadata": {
        "colab": {
          "base_uri": "https://localhost:8080/",
          "height": 573
        },
        "id": "7B-TtHAmWrx0",
        "outputId": "15e7b22f-f7f1-4ac9-9533-cbbdc9443c2b"
      },
      "execution_count": null,
      "outputs": [
        {
          "output_type": "display_data",
          "data": {
            "text/plain": [
              "<Figure size 432x288 with 1 Axes>"
            ],
            "image/png": "[encoded data removed]"
          },
          "metadata": {
            "needs_background": "light"
          }
        },
        {
          "output_type": "display_data",
          "data": {
            "text/plain": [
              "<Figure size 432x288 with 1 Axes>"
            ],
            "image/png": "[encoded data removed]"
          },
          "metadata": {
            "needs_background": "light"
          }
        }
      ]
    },
    {
      "cell_type": "markdown",
      "source": [
        "# 5. Evaluate Model\n",
        "\n",
        "- Task: Evaluate the model using test data"
      ],
      "metadata": {
        "id": "N1JOqwZ3W-un"
      }
    },
    {
      "cell_type": "code",
      "source": [
        "#Evaluate trained model and print the performance\n",
        "score,acc= model.evaluate(X_test, Y_test, verbose = 2, batch_size= 32)\n",
        "print(\"Categorical crossentropy: %.2f\" % (score))\n",
        "print(\"Accuracy: %.2f\" % (acc))"
      ],
      "metadata": {
        "colab": {
          "base_uri": "https://localhost:8080/"
        },
        "id": "d_6PEF1UbUAu",
        "outputId": "82d5454a-0202-4436-88c3-1ba0c6187ea3"
      },
      "execution_count": null,
      "outputs": [
        {
          "output_type": "stream",
          "name": "stdout",
          "text": [
            "782/782 - 23s - loss: 0.6188 - accuracy: 0.7694 - 23s/epoch - 29ms/step\n",
            "Categorical crossentropy: 0.62\n",
            "Accuracy: 0.77\n"
          ]
        }
      ]
    },
    {
      "cell_type": "markdown",
      "source": [
        "# 6. Parameter Tuning\n",
        "- Task: Try training process with another settings"
      ],
      "metadata": {
        "id": "vZI4vIaiPexy"
      }
    },
    {
      "cell_type": "code",
      "source": [
        "# ex1. Compile the model with another optimizer (SGD, RMSprop , Adadelta , Adagrad , Adam)\n",
        "model.compile(loss = 'categorical_crossentropy',optimizer='adam',metrics = ['accuracy'])\n",
        "model.fit(X_train, Y_train, epochs = 10, batch_size=32, validation_split=0.1, verbose = 2)"
      ],
      "metadata": {
        "id": "wGCJEpajPi4e",
        "colab": {
          "base_uri": "https://localhost:8080/"
        },
        "outputId": "d8647d44-f3d3-4c24-be14-ffff2be1dffa"
      },
      "execution_count": null,
      "outputs": [
        {
          "metadata": {
            "tags": null
          },
          "name": "stdout",
          "output_type": "stream",
          "text": [
            "Epoch 1/10\n",
            "704/704 - 100s - loss: 0.4699 - accuracy: 0.7749 - val_loss: 0.5024 - val_accuracy: 0.7696 - 100s/epoch - 143ms/step\n",
            "Epoch 2/10\n",
            "704/704 - 98s - loss: 0.4241 - accuracy: 0.8027 - val_loss: 0.4579 - val_accuracy: 0.7764 - 98s/epoch - 139ms/step\n",
            "Epoch 3/10\n",
            "704/704 - 98s - loss: 0.3941 - accuracy: 0.8187 - val_loss: 0.4561 - val_accuracy: 0.7788 - 98s/epoch - 139ms/step\n",
            "Epoch 4/10\n",
            "704/704 - 98s - loss: 0.3701 - accuracy: 0.8329 - val_loss: 0.4766 - val_accuracy: 0.7736 - 98s/epoch - 139ms/step\n",
            "Epoch 5/10\n",
            "704/704 - 98s - loss: 0.3434 - accuracy: 0.8473 - val_loss: 0.4686 - val_accuracy: 0.7876 - 98s/epoch - 139ms/step\n",
            "Epoch 6/10\n",
            "704/704 - 97s - loss: 0.3183 - accuracy: 0.8606 - val_loss: 0.4955 - val_accuracy: 0.7816 - 97s/epoch - 138ms/step\n",
            "Epoch 7/10\n",
            "704/704 - 98s - loss: 0.2929 - accuracy: 0.8727 - val_loss: 0.5044 - val_accuracy: 0.7788 - 98s/epoch - 139ms/step\n",
            "Epoch 8/10\n",
            "704/704 - 98s - loss: 0.2690 - accuracy: 0.8848 - val_loss: 0.5612 - val_accuracy: 0.7792 - 98s/epoch - 139ms/step\n",
            "Epoch 9/10\n",
            "704/704 - 98s - loss: 0.2456 - accuracy: 0.8974 - val_loss: 0.5948 - val_accuracy: 0.7712 - 98s/epoch - 139ms/step\n",
            "Epoch 10/10\n",
            "704/704 - 98s - loss: 0.2248 - accuracy: 0.9060 - val_loss: 0.6036 - val_accuracy: 0.7680 - 98s/epoch - 139ms/step\n"
          ]
        },
        {
          "data": {
            "text/plain": [
              "<keras.callbacks.History at 0x7f2c09385f10>"
            ]
          },
          "execution_count": null,
          "metadata": {},
          "output_type": "execute_result"
        }
      ]
    },
    {
      "cell_type": "code",
      "source": [
        "# ex2. Change the number of units of LSTM layer (Too many layers and epochs would result in overfitting)\n",
        "from keras.layers import LSTM\n",
        "lstm_unit= 128\n",
        "model.add(LSTM(lstm_unit, activation=‘tanh’))"
      ],
      "metadata": {
        "id": "DohzaqlDPm6X",
        "colab": {
          "base_uri": "https://localhost:8080/",
          "height": 131
        },
        "outputId": "6e9a4c57-5138-4af7-a889-6c1e7ff99695"
      },
      "execution_count": null,
      "outputs": [
        {
          "ename": "SyntaxError",
          "evalue": "ignored",
          "output_type": "error",
          "traceback": [
            "\u001b[0;36m  File \u001b[0;32m\"<ipython-input-18-5756f1b2fd64>\"\u001b[0;36m, line \u001b[0;32m4\u001b[0m\n\u001b[0;31m    model.add(LSTM(lstm_unit, activation=‘tanh’))\u001b[0m\n\u001b[0m                                              ^\u001b[0m\n\u001b[0;31mSyntaxError\u001b[0m\u001b[0;31m:\u001b[0m invalid character in identifier\n"
          ]
        }
      ]
    },
    {
      "cell_type": "markdown",
      "source": [
        "# 7. User Input Test\n",
        "- Task: Test the model using the sentence what you want"
      ],
      "metadata": {
        "id": "ejORSRTVXl_X"
      }
    },
    {
      "cell_type": "code",
      "source": [
        "#Input the sentence as a list type, and preprocess like above\n",
        "sentence = 'I wanted to like this film and expected there to be a decent resolution to the breakdown of equilibrium but alas no, it left me feeling like Id wasted my time and the film makers had wasted their money'\n",
        "sentence = tokenizer.texts_to_sequences([sentence])\n",
        "#padding the tweet to have exactly the same shape as `embedding_2` input\n",
        "sentence = pad_sequences(sentence, maxlen=max_sentence_len, dtype='int32', value=0)"
      ],
      "metadata": {
        "id": "YPZjHCTEXqaU"
      },
      "execution_count": null,
      "outputs": []
    },
    {
      "cell_type": "code",
      "source": [
        "#Predict the sentiment of your own sentence using the model\n",
        "import numpy as np\n",
        "sentiment = model.predict(sentence, batch_size=1, verbose = 2)[0]\n",
        "if(np.argmax(sentiment) == 0):\n",
        "  print(\"negative\")\n",
        "elif(np.argmax(sentiment) == 1):\n",
        "  print(\"positive\")"
      ],
      "metadata": {
        "colab": {
          "base_uri": "https://localhost:8080/"
        },
        "id": "ey02mRrlX2Dm",
        "outputId": "3857857d-3ba3-4d45-e64c-6aefc79de831"
      },
      "execution_count": null,
      "outputs": [
        {
          "output_type": "stream",
          "name": "stdout",
          "text": [
            "1/1 - 1s - 530ms/epoch - 530ms/step\n",
            "negative\n"
          ]
        }
      ]
    }
  ]
}